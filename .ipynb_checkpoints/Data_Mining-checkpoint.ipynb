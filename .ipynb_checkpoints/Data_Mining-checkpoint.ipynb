{
 "cells": [
  {
   "cell_type": "markdown",
   "metadata": {},
   "source": [
    "# Data Mining"
   ]
  },
  {
   "cell_type": "markdown",
   "metadata": {},
   "source": [
    "## Useful APIs\n",
    "\n",
    "* Twitter - https://developer.twitter.com\n",
    "* Weibo - https://open.weibo.com/wiki/API文档/en\n",
    "* IEX - https://iexcloud.io (Free Stocks and Market Data)\n",
    "* Google Translate - https://cloud.google.com/translate/docs/quickstarts\n",
    "* API List - https://github.com/n0shake/Public-APIs"
   ]
  },
  {
   "cell_type": "code",
   "execution_count": null,
   "metadata": {
    "collapsed": true
   },
   "outputs": [],
   "source": []
  }
 ],
 "metadata": {
  "kernelspec": {
   "display_name": "Python 3",
   "language": "python",
   "name": "python3"
  },
  "language_info": {
   "codemirror_mode": {
    "name": "ipython",
    "version": 3
   },
   "file_extension": ".py",
   "mimetype": "text/x-python",
   "name": "python",
   "nbconvert_exporter": "python",
   "pygments_lexer": "ipython3",
   "version": "3.6.3"
  }
 },
 "nbformat": 4,
 "nbformat_minor": 2
}
