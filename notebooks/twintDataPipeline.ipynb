{
 "cells": [
  {
   "cell_type": "code",
   "execution_count": 1,
   "metadata": {},
   "outputs": [],
   "source": [
    "import sys, os\n",
    "\n",
    "sys.path.insert(1, '../scripts')\n",
    "root = os.getcwd()\n",
    "\n",
    "\n",
    "from TwintDataMiner import TwintDataMiner\n",
    "from DataCleaner import DataCleaner"
   ]
  },
  {
   "cell_type": "code",
   "execution_count": 2,
   "metadata": {},
   "outputs": [],
   "source": [
    "tweetsFile = \"../data/tweets.csv\"\n",
    "tdm = TwintDataMiner()\n",
    "#tdm.getAttribute(\"tweet\", tweetsFile)"
   ]
  },
  {
   "cell_type": "code",
   "execution_count": 3,
   "metadata": {},
   "outputs": [],
   "source": [
    "attributes = [\"id\", \"tweet\", \"place\", \"time\"]\n",
    "df = tdm.getPandasDataFrame(attributes, tweetsFile)\n",
    "df = df[:100]\n",
    "#df.head\n"
   ]
  },
  {
   "cell_type": "code",
   "execution_count": 5,
   "metadata": {},
   "outputs": [],
   "source": [
    "dc = DataCleaner()\n",
    "df = dc.deEmojify(df, 'tweet')\n",
    "#df = dc.translate(df, 'tweet', 'translatedTweet')"
   ]
  },
  {
   "cell_type": "code",
   "execution_count": 6,
   "metadata": {},
   "outputs": [
    {
     "data": {
      "text/plain": [
       "<bound method NDFrame.head of                      id                                              tweet  \\\n",
       "0                    id                                              tweet   \n",
       "1   1240726794422149120  Note pour le jour d'après qui ne sera pas le j...   \n",
       "2   1240726794417967111  BREAKING: Germany reports 2982 new coronavirus...   \n",
       "3   1240726794338275328  México confirma su primera muerte por coronavi...   \n",
       "4   1240726794111762436  Eu queria ser coronavirus mas coronavirus eu n...   \n",
       "..                  ...                                                ...   \n",
       "95  1240726779662413826  \"Cirque Du Soleil Axes Almost All Staff as Cor...   \n",
       "96  1240726779553177600  For those who are otherwise or deliberately un...   \n",
       "97  1240726779536572417  BREAKING: Germany reports 2982 new coronavirus...   \n",
       "98  1240726779482046465  Nptq pcq la grippe tue bcp plus en France que ...   \n",
       "99  1240726778982944780  Voilà ce qui se passe depuis hier à 20h et app...   \n",
       "\n",
       "    place      time  \n",
       "0   place      time  \n",
       "1          19:48:14  \n",
       "2          19:48:14  \n",
       "3          19:48:14  \n",
       "4          19:48:13  \n",
       "..    ...       ...  \n",
       "95         19:48:10  \n",
       "96         19:48:10  \n",
       "97         19:48:10  \n",
       "98         19:48:10  \n",
       "99         19:48:10  \n",
       "\n",
       "[100 rows x 4 columns]>"
      ]
     },
     "execution_count": 6,
     "metadata": {},
     "output_type": "execute_result"
    }
   ],
   "source": [
    "df.head"
   ]
  },
  {
   "cell_type": "code",
   "execution_count": null,
   "metadata": {},
   "outputs": [],
   "source": []
  }
 ],
 "metadata": {
  "kernelspec": {
   "display_name": "Python 3",
   "language": "python",
   "name": "python3"
  },
  "language_info": {
   "codemirror_mode": {
    "name": "ipython",
    "version": 3
   },
   "file_extension": ".py",
   "mimetype": "text/x-python",
   "name": "python",
   "nbconvert_exporter": "python",
   "pygments_lexer": "ipython3",
   "version": "3.6.9"
  }
 },
 "nbformat": 4,
 "nbformat_minor": 4
}
