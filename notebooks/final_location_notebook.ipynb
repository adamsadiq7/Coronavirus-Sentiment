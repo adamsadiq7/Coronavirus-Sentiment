{
 "cells": [
  {
   "cell_type": "code",
   "execution_count": 1,
   "metadata": {},
   "outputs": [],
   "source": [
    "import sys, os\n",
    "import pandas as pd\n",
    "import numpy as np\n",
    "from textblob import TextBlob\n",
    "import seaborn as sns\n",
    "import matplotlib.pyplot as plt\n",
    "\n",
    "sys.path.insert(1, '../scripts')\n",
    "root = os.getcwd()\n",
    "\n",
    "\n",
    "from TwintDataMiner import TwintDataMiner\n",
    "from PandasDataCleaner import PandasDataCleaner\n",
    "from TextBlobSentiment import TextBlobSentiment\n",
    "from Visualisation import Visualisation\n",
    "from GMM import GMM\n"
   ]
  },
  {
   "cell_type": "code",
   "execution_count": 2,
   "metadata": {},
   "outputs": [
    {
     "data": {
      "text/plain": [
       "<bound method NDFrame.head of                         id                                              tweet  \\\n",
       "0                       id                                              tweet   \n",
       "1      1237392766671269900  Coronavirus outbreak and our precautions #posh...   \n",
       "2      1237392766633512961  Estoy hablando con mi amigi sobre el #coronavi...   \n",
       "3      1237392763848556549  How do you feel about #Coachella and #Stagecoa...   \n",
       "4      1237392763508809730  o melhor remédio para o corona vírus é o corot...   \n",
       "...                    ...                                                ...   \n",
       "58335  1237166326449344513  The latest on the #Coronavirus in #SouthCaroli...   \n",
       "58336  1237166322150256641  if you ever used the restrooms at 216,\\nyou’re...   \n",
       "58337  1237166316496322561  El primer enfermo de coronavirus apareció hace...   \n",
       "58338  1237166283449393153  Además del Coronavirus siguen los infartos, lo...   \n",
       "58339  1237166282543251456  #Trumpdemic trends nationwide as people vent a...   \n",
       "\n",
       "                                   place        date  \n",
       "0                                  place        date  \n",
       "1                      Dhaka, Bangladesh  2020-03-10  \n",
       "2      Las Palmas de Gran Canaria, Spain  2020-03-10  \n",
       "3                        Los Angeles, CA  2020-03-10  \n",
       "4                      Sao Paulo, Brazil  2020-03-10  \n",
       "...                                  ...         ...  \n",
       "58335                South Carolina, USA  2020-03-10  \n",
       "58336                    Duncanville, TX  2020-03-10  \n",
       "58337                 Quilmes, Argentina  2020-03-10  \n",
       "58338                      Madrid, Spain  2020-03-10  \n",
       "58339                   Murfreesboro, TN  2020-03-10  \n",
       "\n",
       "[58340 rows x 4 columns]>"
      ]
     },
     "execution_count": 2,
     "metadata": {},
     "output_type": "execute_result"
    }
   ],
   "source": [
    "tweetsFile = \"../data/final_location_tweets.csv\"\n",
    "tdm = TwintDataMiner()\n",
    "attributes = [\"id\", \"tweet\", \"place\", \"date\"]\n",
    "df = tdm.getPandasDataFrame(attributes, tweetsFile)\n",
    "df.shape\n",
    "df.head"
   ]
  },
  {
   "cell_type": "code",
   "execution_count": 3,
   "metadata": {},
   "outputs": [
    {
     "data": {
      "text/plain": [
       "(58340, 4)"
      ]
     },
     "execution_count": 3,
     "metadata": {},
     "output_type": "execute_result"
    }
   ],
   "source": [
    "df.drop_duplicates(subset='id')\n",
    "df.shape"
   ]
  },
  {
   "cell_type": "code",
   "execution_count": 4,
   "metadata": {},
   "outputs": [],
   "source": [
    "pdc = PandasDataCleaner()\n",
    "def cleandf(df):\n",
    "    df  = pdc.detectLanguage(df, 'tweet', 'lang')\n",
    "    df = pdc.cleanTweets(df, 'tweet')\n",
    "    df = df.loc[df['lang'] == 'en']\n",
    "    df = df.reset_index(drop=True)\n",
    "    return df"
   ]
  },
  {
   "cell_type": "code",
   "execution_count": 5,
   "metadata": {},
   "outputs": [
    {
     "name": "stdout",
     "output_type": "stream",
     "text": [
      "Detecting language: 58339/58340"
     ]
    }
   ],
   "source": [
    "df = cleandf(df)"
   ]
  },
  {
   "cell_type": "code",
   "execution_count": 6,
   "metadata": {},
   "outputs": [],
   "source": [
    "saveddf = df.copy()"
   ]
  },
  {
   "cell_type": "code",
   "execution_count": 7,
   "metadata": {},
   "outputs": [],
   "source": [
    "df = pdc.addGeneralLocation(df)"
   ]
  },
  {
   "cell_type": "code",
   "execution_count": 8,
   "metadata": {},
   "outputs": [
    {
     "name": "stdout",
     "output_type": "stream",
     "text": [
      "[(3334, 'CA'), (3063, 'USA'), (1886, 'TX'), (1827, 'England'), (1673, 'NY'), (1312, 'FL'), (922, 'India'), (688, 'OH'), (647, 'IL'), (634, 'London'), (599, 'PA'), (527, 'MA'), (498, 'Ontario'), (491, 'NJ'), (470, 'GA'), (444, 'TN'), (435, 'AZ'), (429, 'Ireland'), (413, 'NC'), (387, 'MD'), (380, 'DC'), (379, 'VA'), (375, 'Nigeria'), (357, 'MI'), (356, 'WA'), (338, 'South Africa'), (331, 'LA'), (305, 'IN'), (296, 'Scotland'), (273, 'NV'), (261, 'CO'), (253, 'MO'), (216, 'AL'), (208, 'Victoria'), (194, 'OK'), (193, 'Spain'), (184, 'UT'), (180, 'MN'), (172, 'New South Wales'), (166, 'CT'), (165, 'SC'), (164, 'OR'), (163, 'WI'), (160, 'KY'), (149, 'Pakistan'), (146, 'Alberta'), (144, 'Ghana'), (143, 'KS'), (124, 'Brazil'), (123, 'IA'), (120, 'Northern Ireland'), (119, 'Wales'), (116, 'NE'), (115, 'France'), (113, 'Kenya'), (113, 'Argentina'), (110, 'National Capital Region'), (102, 'Germany'), (102, 'British Columbia'), (100, 'AR'), (98, 'Québec'), (95, 'MS'), (94, 'NM'), (80, 'Nederland'), (72, 'South East'), (72, 'East'), (70, 'United Kingdom'), (67, 'United Arab Emirates'), (66, 'Queensland'), (64, 'HI'), (63, 'Sri Lanka'), (62, 'Uganda'), (59, 'RI'), (58, 'NH'), (56, 'Indonesia'), (55, 'ID'), (53, 'WV'), (53, 'The Netherlands'), (52, 'Türkiye'), (50, 'België'), (48, \"People's Republic of China\"), (46, 'España'), (46, 'Brasil'), (45, 'Israel'), (44, 'Lazio'), (44, 'Jamaica'), (43, 'Tokyo'), (43, 'Belgium'), (42, 'Chile'), (40, 'United States'), (40, 'Hong Kong'), (40, 'D.C.'), (39, 'Western Australia'), (36, 'New Zealand'), (36, 'Colombia'), (36, 'Calabarzon'), (33, 'Nova Scotia'), (33, 'Kingdom of Saudi Arabia'), (32, 'Republic of Korea'), (32, 'ME'), (31, 'Panama'), (30, 'Manitoba'), (29, 'Trinidad and Tobago'), (29, 'Lebanon'), (29, 'AK'), (28, 'Singapore'), (28, 'Selangor'), (28, 'Dominican Republic'), (28, 'Deutschland'), (27, 'Jammu And Kashmir'), (26, 'Thailand'), (26, 'Distrito Federal'), (25, 'Switzerland'), (25, 'Lombardy'), (25, 'Bahamas'), (24, 'Saskatchewan'), (24, 'Namibia'), (24, 'DE'), (24, 'Austria'), (23, 'Maldives'), (22, 'Veneto'), (22, 'Bangladesh'), (21, 'South Australia'), (21, 'Schweiz'), (21, 'ND'), (21, 'Italy'), (21, 'Egypt'), (21, 'Central Visayas'), (20, 'SD'), (20, 'Qatar'), (20, 'Greece'), (19, 'Sverige'), (19, 'Portugal'), (19, 'Lombardia'), (19, 'Davao Region'), (18, 'Venezuela'), (18, 'VT'), (18, 'Poland'), (18, 'Norway'), (17, 'Nepal'), (17, 'Kuwait'), (17, 'Denmark'), (17, 'Cyprus'), (16, 'Rwanda'), (16, 'Quintana Roo'), (16, 'Puerto Rico'), (16, 'MT'), (16, 'Australian Capital Territory'), (15, 'Russia'), (14, 'Tanzania'), (14, 'Sweden'), (14, 'Malta'), (14, 'Jalisco'), (14, 'Ecuador'), (14, 'Costa Rica'), (14, 'Central Luzon'), (14, 'Botswana'), (14, 'Australia'), (13, 'Taiwan'), (13, 'Paraguay'), (12, 'Saitama'), (12, 'Emilia Romagna'), (12, 'Armenia'), (11, 'Zimbabwe'), (11, 'WY'), (11, 'Tuscany'), (11, 'Northern Mindanao'), (11, 'Kuala Lumpur Federal Territory'), (11, 'Hungary'), (11, 'Canada'), (11, 'Campania'), (10, 'Zambia'), (10, 'Vietnam'), (10, 'Polska'), (10, 'Peru'), (10, 'Nuevo León'), (10, 'Czech Republic'), (9, 'Wilayah Persekutuan Kuala Lumpur'), (9, 'Romania'), (9, 'Piemonte'), (9, 'Oman'), (9, 'New Brunswick'), (9, 'Liguria'), (9, 'Finland'), (9, 'Bahrain'), (9, 'Antigua and Barbuda'), (8, 'Uruguay'), (8, 'Tasmania'), (8, 'Newfoundland and Labrador'), (8, 'Islamic Republic of Iran'), (8, 'Iraq'), (8, 'Danmark'), (7, 'Umbria'), (7, 'Target'), (7, 'Suomi'), (7, 'Suisse'), (7, 'Senegal'), (7, 'Norge'), (7, 'Marche'), (7, 'Kosovo'), (7, 'Isle of Man'), (7, 'Barbados'), (6, 'İstanbul'), (6, 'Turks and Caicos Islands'), (6, 'Toscana'), (6, 'Swaziland'), (6, 'Somalia'), (6, 'Rochester'), (6, 'Republic of Serbia'), (6, 'Republic of Croatia'), (6, 'Philadelphia'), (6, 'Manchester Royal Infirmary'), (6, 'Malawi'), (6, 'Honduras'), (6, 'Hillview Cemetery'), (6, 'Hashemite Kingdom of Jordan'), (6, 'Guatemala'), (6, 'Cayman Islands'), (6, 'Bicol Region'), (5, 'Österreich'), (5, 'Ukraine'), (5, 'The Point At San Onofre'), (5, 'Slovak Republic'), (5, 'Royaume du Maroc'), (5, 'Republic of Mauritius'), (5, 'Piedmont'), (5, 'México'), (5, 'Los Angeles'), (5, 'Lesotho'), (5, 'Kanagawa'), (5, 'Japan'), (5, 'Iceland'), (5, 'Hyogo'), (5, 'Gambia'), (5, 'Fiji'), (5, 'Brunei'), (4, 'Česká republika'), (4, 'Western Visayas'), (4, 'Walmart'), (4, 'Turkey'), (4, 'Trentino-South Tyrol'), (4, 'Sicilia'), (4, 'România'), (4, 'Republic of Slovenia'), (4, 'Norman Y. Mineta San Jose International Airport (SJC)'), (4, 'Manhattan'), (4, 'Liechtenstein'), (4, 'Libya'), (4, 'Kyoto'), (4, 'Khartoum'), (4, 'Ilocos Region'), (4, 'Haiti'), (4, 'Guanajuato'), (4, 'Grenada'), (4, 'Georgia'), (4, 'Ethiopia'), (4, 'Espanya'), (4, 'Democratic Republic of Congo'), (4, 'Calabria'), (4, 'Belgique'), (4, 'Baja California Sur'), (4, 'Bailiwick of Jersey'), (4, 'American Airlines Center'), (4, 'Afghanistan'), (3, 'Yemen'), (3, 'Whos Got Soul'), (3, 'Washington'), (3, 'Veracruz de Ignacio de la Llave'), (3, 'University of Nairobi Towers'), (3, 'Tabasco'), (3, 'Sonora'), (3, 'Sierra Leone'), (3, 'Sicily'), (3, 'Sabah'), (3, 'Republic of the Philippines'), (3, 'Querétaro Arteaga'), (3, 'Puglia'), (3, 'Prince Edward Island'), (3, 'Pahang'), (3, 'Osaka'), (3, 'Northern Territory'), (3, 'Nicaragua'), (3, 'New York City Hall'), (3, 'Myanmar'), (3, 'Luxembourg'), (3, 'Latvia'), (3, \"Lao People's Democratic Republic\"), (3, 'Ivory Coast'), (3, 'Illinois Marathon Mile 6'), (3, 'GU'), (3, 'Fukuoka'), (3, 'Friuli-Venezia Giulia'), (3, 'El Salvador'), (3, 'Cuba'), (3, 'Costco'), (3, 'Cordillera Admin Region'), (3, 'Congo'), (3, 'Cameroon'), (3, 'Boston'), (3, 'Bolivia'), (3, 'Baja California'), (3, 'Aruba'), (3, 'Andorra'), (3, 'Algeria'), (3, 'Abruzzo'), (2, 'Россия'), (2, 'University of Louisville'), (2, 'United States Capitol'), (2, 'United Nations'), (2, \"Trader Joe's\"), (2, 'The White House'), (2, 'The National Press Club'), (2, 'Tamaulipas'), (2, 'TPC Sawgrass'), (2, 'Sydney'), (2, 'South Branch Library'), (2, 'Seattle-Tacoma International Airport (SEA)'), (2, 'San Francisco State University (SFSU)'), (2, 'San Diego'), (2, 'Saint Lucia'), (2, 'Sage Valley Golf Club'), (2, 'Rio de Janeiro'), (2, 'RealTVfilms'), (2, 'Ralphs'), (2, 'Publix'), (2, 'Poolside'), (2, 'PHILADELPHIA'), (2, 'On The Run'), (2, 'Okinawa'), (2, 'Northwest Territories'), (2, 'Morocco'), (2, 'Montenegro'), (2, 'Mexico'), (2, 'Meio do Oceano Atlântico'), (2, 'Martinique'), (2, 'Lynnewood Gardens'), (2, 'Louisville Metro Hall'), (2, 'Los Angeles International Airport (LAX)'), (2, 'Kroger Marketplace'), (2, 'Kentucky State Capitol'), (2, 'Johor'), (2, 'IHOP'), (2, 'Houston transtar offices'), (2, 'Houston'), (2, 'Gibraltar'), (2, 'FOX Television Center'), (2, 'Estonia'), (2, 'Edward W Brooke Courthouse'), (2, 'East Timor'), (2, 'Dallas Fort Worth International Airport (DFW)'), (2, 'Chihuahua'), (2, 'Cherry Brook Pizza'), (2, 'Centre 200'), (2, 'Cambodia'), (2, 'Bulgaria'), (2, 'Bermuda'), (2, 'Bermondsey Street Bees'), (2, 'Ballroom A-D Marriott Wardman'), (2, 'Atlanta'), (2, 'Apulia'), (2, \"Applebee's Grill + Bar\"), (2, 'Albania'), (2, 'Aichi'), (1, '東京国際空港 / 羽田空港 (Tokyo International Airport) (HND)'), (1, '广州白云湖'), (1, '太原理工大学 Tai Yuan University of Technology'), (1, '北京理工大学留学生苏州桥公寓（Beijing İnstitute Of Technology Suzhou Bridge Dormitory)'), (1, 'İstanbul Sabiha Gökçen Uluslararası Havalimanı (SAW)'), (1, 'Č'), (1, 'taconic ct'), (1, 'sumbal'), (1, 'sláinte global partners World Headquarters'), (1, 'plaza de castilla de san rafael'), (1, 'long island city application support center'), (1, 'collwood Townhouse Condo'), (1, 'casacuba'), (1, 'Zwolle'), (1, 'Zonguldak'), (1, 'Zamboanga Peninsula'), (1, 'Yukon'), (1, 'Yucatán'), (1, 'Yirmibir Kebap'), (1, 'Yamaguchi'), (1, 'Yalova'), (1, 'Yale Broadcast & Media Center'), (1, 'Wuhan (武汉市)'), (1, 'World Bank Headquarters'), (1, 'Worcester City Hall'), (1, 'Wooddale Church'), (1, \"What's On Tap NRH\"), (1, 'Westwood High School'), (1, 'Westridge Recreation Center'), (1, 'Wayne K. Curry County Adminstration Building'), (1, 'Warren County Public Schools Board Of Education'), (1, 'Walter E. Washington Convention Center'), (1, 'WakuWaku Eatery'), (1, 'Wakayama'), (1, 'WaMu Theater'), (1, 'WXIA-TV'), (1, 'WPGC-FM 95.5'), (1, 'WGBH'), (1, 'Vlaams Parlement'), (1, 'Virgin Islands'), (1, 'Virgin Atlantic Clubhouse'), (1, 'Vinoteca Farfalla'), (1, 'Vicarage Lane Health Centre'), (1, 'Vesave Beach Fish Market'), (1, 'Verizon Wireless'), (1, 'Vauxhall'), (1, 'Vatican City'), (1, 'Valley Mart'), (1, 'Valley Library (OSU)'), (1, 'VASA Fitness'), (1, 'Upper Rectory Farm'), (1, 'Universitäts- und Landesbibliothek Innsbruck'), (1, 'Universität zu Köln'), (1, 'University of Reading'), (1, 'University of North Carolina at Charlotte'), (1, 'University of Kentucky'), (1, 'University Of New Haven - Winchester Hall'), (1, 'University Medical Center of New Orleans'), (1, 'United Nations Trusteeship Council'), (1, 'United Club'), (1, 'United Center'), (1, 'Union Temple Baptist Church'), (1, 'Union County Service Center'), (1, 'UT Child Development Center'), (1, 'UCLA Hedrick Summit'), (1, 'UC Davis Cancer Center'), (1, 'U.S. House of Representatives'), (1, 'U.S. Capitol Visitor Center'), (1, 'Two Rivers Car Park'), (1, 'Tunisia'), (1, 'Tru Fit'), (1, 'Toyama'), (1, 'Town East Ford'), (1, 'Tommy’s Tiki Sand Bar'), (1, 'Tom Bradley International Terminal (TBIT)'), (1, 'Tochal Ski Area | پيست اسکی توچال'), (1, 'Tirana | Tiranë | Tirona'), (1, 'Tirana Albania'), (1, 'Times Square'), (1, 'Timberlane Golf & Country Club'), (1, 'The boom boom room'), (1, 'The Wine Stable And Brew Co'), (1, 'The Villa Levenslevens'), (1, 'The University of Tennessee'), (1, 'The Underworld'), (1, 'The Station'), (1, 'The Star Newspaper'), (1, 'The Rouxpour'), (1, 'The Mike Morse Law Firm'), (1, 'The Mansions'), (1, 'The Liberty Township Studio'), (1, 'The Grand Towers Manila'), (1, 'The Forum'), (1, 'The Death Star'), (1, 'The Bunker'), (1, 'The Bridgewater Hall'), (1, 'Tha Hommies Shop'), (1, 'Texas'), (1, 'Teterboro Airport (TEB)'), (1, 'Tesco Extra'), (1, 'Tesco'), (1, 'Terminal B'), (1, 'Terminal AMA Rio Piedras'), (1, 'Terminal 3'), (1, 'Terminal 2'), (1, 'Terengganu'), (1, 'Tennessee Welcome Center'), (1, 'Tel Aviv (תל אביב)'), (1, 'Tate Modern'), (1, 'Taj Gateway'), (1, 'Taco Mac'), (1, 'Syria'), (1, 'Svizzera'), (1, 'Suvarnabhumi Airport (BKK) ท่าอากาศยานสุวรรณภูมิ'), (1, 'Sutter Imaging'), (1, 'Sushi 2'), (1, 'Surat Thani Province'), (1, 'Superdrug'), (1, 'Subd. D'), (1, 'Subd. C'), (1, 'Subd. A'), (1, 'Station1640'), (1, 'Station Schiphol Airport'), (1, 'Station Hilversum'), (1, 'Starbucks'), (1, \"St. Mary's University\"), (1, \"St. Luke's Medical Center\"), (1, \"St. George's Cathedral\"), (1, 'Srbija'), (1, 'Spectrum Field'), (1, 'Southwest Baptist University'), (1, 'Southside Medical Center'), (1, 'Southie By Southwest'), (1, 'Somerville'), (1, 'Soccsksargen'), (1, 'Sobeys Bridgeport'), (1, 'Sloane Square London Underground Station'), (1, 'Sloan Park'), (1, 'Sky City Housing Development'), (1, 'Skopje City Mall'), (1, 'Sir Charles Gairdner Hospital'), (1, 'Sint Eustatius and Saba'), (1, 'Sinaloa'), (1, 'Simmons College'), (1, 'Sheraton Grand Hotel & Spa'), (1, \"Shaw's\"), (1, 'Shakers Restaurant'), (1, 'Shahdara'), (1, 'Shady Grove Metro Station'), (1, 'Seychelles'), (1, 'Seminyak Beach'), (1, 'Seattle Public Library - Ballard Branch'), (1, 'Seagrove Beach'), (1, 'Scottish National Gallery of Modern Art One'), (1, 'Scarborough General Hospital Emergency'), (1, 'Savitribai Phule Pune University'), (1, 'Sarawak'), (1, 'Sanford Pentagon'), (1, 'Sandy Lane Hotel'), (1, 'San Luis Potosí'), (1, 'San Jose State University'), (1, 'San Francisco-Oakland Bay Bridge'), (1, 'Saint Lazarus Bar'), (1, 'Saint Kitts and Nevis'), (1, 'Saint John Arena'), (1, 'Sailashree Vihar'), (1, 'Sadar Bazar | सदर बाजार'), (1, 'Sacramento International Airport (SMF)'), (1, 'SBS'), (1, 'SASTRA University'), (1, 'Russell Rotunda'), (1, 'Royal Hospital School'), (1, 'Royal Farms Arena'), (1, 'Rouses Market'), (1, 'Roosevelt Island'), (1, 'Rio carnival'), (1, 'Resch Center'), (1, 'Repatriation General Hospital'), (1, \"Red's BBQ\"), (1, 'Reading Railway Station (RDG)'), (1, 'Rayburn House Office Building'), (1, 'Rapides Cancer Center'), (1, 'Raja Bhoj International Airport'), (1, 'Raccoon City'), (1, 'Queen Elizabeth II Conference Centre'), (1, 'Putney Common Cricket Pitch'), (1, 'Pulau Pinang'), (1, 'Puente Euskalduna'), (1, 'Puebla'), (1, 'Provincial Legislature Western Cape'), (1, 'Protein Sciences Corporation'), (1, 'Portland'), (1, 'Portezuelo Tobalaba'), (1, 'Port Of Bonaire'), (1, 'Pluckers Wing Bar'), (1, 'Plaza De La Dignidad (Ex Plaza Italia)'), (1, 'Platforms and Business Delivery'), (1, 'Pinang'), (1, \"Pic n' Save Supermarket\"), (1, 'Philz Coffee'), (1, 'Philadelphia International Airport (PHL)'), (1, 'Perak'), (1, 'Peoria Sports Complex'), (1, 'Pensacola Beach'), (1, 'Penitro'), (1, 'Pavilions'), (1, 'Pavilion Theatre'), (1, 'Passport Control'), (1, 'Parliament Buildings'), (1, 'Parkland Walk Highgate Tunnels'), (1, 'Paris'), (1, 'Parada de Ônibus Iguatemi'), (1, 'Papua New Guinea'), (1, 'Paper Plane University Class420'), (1, 'Panera Bread'), (1, 'Panda Express'), (1, 'Palais des Nations'), (1, 'Painted Ladies'), (1, 'Pacific Bake House'), (1, 'Ospedali Riuniti di Ancona'), (1, 'Oslo'), (1, 'Orlando International Airport (MCO)'), (1, 'Orinda BART Station'), (1, \"Oreo's Icebox\"), (1, 'Orangetown Jewish Center'), (1, 'Orange County Administration Building'), (1, 'Orange County'), (1, 'Omdurman'), (1, 'Oman Institute for Oil & Gas (instOG)'), (1, 'Olympic Training Center Theater'), (1, 'Oklahoma State Capitol'), (1, 'Oita'), (1, 'Ohio Theatre'), (1, 'Oaxaca'), (1, 'Oakland International Airport (OAK)'), (1, \"O'D & Associates\"), (1, 'Nurture Marketing'), (1, 'Nunavut'), (1, 'Northern Michigan University'), (1, 'Northern Mariana Islands'), (1, 'North Brewing Co Tap Room'), (1, 'Nordicfuzzcon'), (1, 'Nirman Bhavan'), (1, 'Niger'), (1, 'NewsChannel 9'), (1, 'News 12 Westchester'), (1, 'Newman Bottom Park'), (1, 'New York Yankees Clubhouse'), (1, 'New York Stock Exchange'), (1, 'New Pune Bakety'), (1, 'New Delhi'), (1, 'New China Cafe'), (1, 'Ned’s Starlight Lounge'), (1, 'Naval Base Guam'), (1, 'National Stadium'), (1, 'National Insurance Commission'), (1, 'Nara'), (1, 'NRG Park'), (1, 'NEW YORK'), (1, 'Märkisches Zentrum'), (1, 'My Hospital Room'), (1, 'Mumbai Central'), (1, 'Morelos'), (1, 'Mongolia'), (1, 'Monaco'), (1, 'Miyagi'), (1, 'Missouri State University'), (1, 'Ministry of Health and Social Welfare'), (1, 'Minecraft'), (1, 'Minbu City'), (1, 'Milano'), (1, 'MidiCi The Neapolitan Pizza Company'), (1, 'Middle of the Clyde'), (1, 'Merrimack College'), (1, 'Mental Health Courtroom 220'), (1, 'Mellie Esperson Building'), (1, 'Melbourne'), (1, 'MedStar Georgetown University Hospital'), (1, 'McKay Dee Hospital Center'), (1, \"McDonald's\"), (1, 'Maryland State House'), (1, 'Marshalls'), (1, 'Margitsziget'), (1, 'Maple Leaf Square'), (1, 'Manchester'), (1, 'Malaysia'), (1, 'Main Mall'), (1, 'Main Building'), (1, 'Magyarország'), (1, 'Madison Square Garden'), (1, 'Madagascar'), (1, 'MTA Subway - Rector St (1)'), (1, 'MTA Subway - 50th St (C/E)'), (1, 'MTA Subway - 42nd St/Times Square/Port Authority Bus Terminal (A/C/E/N/Q/R/W/S/1/2/3/7)'), (1, 'MADISON'), (1, 'L’Avenue'), (1, 'Los Portales Flea Market'), (1, 'London Marriott Hotel Regents Park'), (1, 'Life Care Center of Kirkland'), (1, 'Lido Bar + Grill'), (1, 'Lidl Slaakhuys'), (1, 'Libyana Mobile Phone'), (1, 'Liberia'), (1, 'Lautiosaari'), (1, 'Las Vegas'), (1, 'Lansing Regional Chamber of Commerce'), (1, 'Lake Tawakoni'), (1, 'LECOM Park'), (1, 'Kyrgyzstan'), (1, 'Kurdistan restaurant'), (1, 'Korle-Bu Teaching Hospital'), (1, 'Kolkata | Calcutta | কলকাতা'), (1, 'Kolkata'), (1, 'Kirkland'), (1, 'Kilowatts'), (1, 'Kigali'), (1, 'Khartoum North'), (1, 'Keys Energy Services'), (1, 'Kentucky for Kentucky'), (1, 'Kelvinbridge'), (1, 'Kazakhstan'), (1, 'Kaiser Permanente Medical Center'), (1, 'Kagoshima'), (1, 'KWGN / Fox 31 Studios'), (1, 'KLM Crown Lounge 25 (Schengen)'), (1, 'KFMB Stations'), (1, 'KFC'), (1, 'KCSN - California State University Northridge'), (1, 'John H. Mulroy Civic Center'), (1, 'Jigawa state'), (1, 'JetBlue Park at Fenway South'), (1, 'Jefferson Technical And Community College'), (1, 'James S. Brady Press Briefing Room'), (1, 'Jackson High School'), (1, 'Isla Verde Beach'), (1, 'Irish Meadows Alpaca Farm'), (1, 'International Terminal'), (1, 'Intel - Ronler Acres Fitness Center'), (1, 'Intel - RA1'), (1, 'Independence Plaza'), (1, 'Ile-de-France'), (1, 'IIM Kashipur'), (1, 'Hôtel La Place'), (1, 'Huntsman Cancer Institute'), (1, 'House Energy and Commerce Committee'), (1, 'Horizon Lake View Resort'), (1, 'Honda Center'), (1, 'Hobby Lobby'), (1, 'Hobart'), (1, 'Hoang & Vu'), (1, 'Henderson Bridge'), (1, 'Hellas'), (1, 'Hell on Earth'), (1, 'Hatay'), (1, 'Hartford Healthcare System Support Office'), (1, 'Hampshire'), (1, 'HOTEL DU PONT'), (1, 'HEB MacGregor Market'), (1, 'H-E-B'), (1, 'Gyoza Bar けいすけ'), (1, 'Guyana'), (1, 'Gulshan e Maymar'), (1, 'Guinness Academy'), (1, 'Guerrero'), (1, 'Grand Hyatt'), (1, 'Grand Canyon National Park'), (1, 'Good Shepherd Episcopal School'), (1, 'Giant Food Store'), (1, 'Georgia State Capitol'), (1, 'Georgia Public Broadcasting'), (1, 'Georgia Ports Authority'), (1, 'George Howell Coffee Co.'), (1, 'Gatlinburg Skybridge West'), (1, 'Garagiste Wine Room | Merchant'), (1, 'Gar-Field Senior High School'), (1, 'Galen Hall Golf Club'), (1, 'Galata Kulesi'), (1, 'Gabon'), (1, 'Fulton-Montgomery Community College'), (1, \"Fry's Food Store\"), (1, 'French Polynesia'), (1, 'Free STD Clinics'), (1, 'Fox Theater'), (1, 'Former Yugoslav Republic of Macedonia'), (1, 'Ford Financial Group'), (1, 'Fiserv Forum'), (1, 'First United Methodist Church Ferndale'), (1, 'Fiesta Market Square'), (1, 'Festival Gardens'), (1, 'Fenway Health'), (1, 'Federal Way Community Center'), (1, 'Faroe Islands'), (1, 'Farmacias Ahumada'), (1, 'Fairfax County Government Center'), (1, 'FOX16 / KARK Mega Newsroom'), (1, 'FEU Main Building'), (1, 'FCO/LIRF Runway 07/25'), (1, 'Executive Lounge - Hilton Hartford'), (1, 'EventCity'), (1, 'Europäische Zentralbank (EZB)'), (1, 'Europees Parlement / Parlement Européen'), (1, 'Eudora Welty House'), (1, 'Estadio Antonio Vespucio Liberti \"Monumental\" (Club Atlético River Plate)'), (1, 'Essex Skyline'), (1, 'Erzincan'), (1, 'Eranakulan Junction'), (1, 'Enterprise Center'), (1, 'Entebbe'), (1, 'Emirates Stadium'), (1, 'Elsie Dorsey Park'), (1, 'El Alquezar'), (1, 'Edmon Low Library'), (1, 'Ebenezer Chop Bar'), (1, 'Eastern Visayas'), (1, 'Düzce'), (1, 'Dupont Circle Metro Station'), (1, 'DuPage County Board'), (1, 'Drogheda MacBride Railway Station'), (1, 'Dream Lake'), (1, 'Downtown Seattle'), (1, 'Downtown Denver YMCA'), (1, 'DoubleTree by Hilton'), (1, 'Dormitory 9'), (1, 'Doppio'), (1, 'Dominion Arms Corp'), (1, 'Dominica'), (1, 'Djibouti'), (1, 'Disneyland Park'), (1, 'Dingle Bay Hotel'), (1, 'Dickies Arena'), (1, 'Denver'), (1, 'Delta Air Lines Ticket Counter'), (1, 'Daytona Beach Police Station'), (1, 'Dana Pani Beach'), (1, 'Dal Lake'), (1, 'DENVER'), (1, 'Cuyahoga Valley Christian Academy'), (1, 'Curaçao'), (1, 'Crucial Survival'), (1, 'Croydon Town Hall'), (1, 'Crowne Plaza Springfield'), (1, 'Courtyard New York Manhattan/Times Square West'), (1, 'Costra Advertising'), (1, 'Costco Gasoline'), (1, 'Costco Food Court'), (1, 'Cork'), (1, 'Comunidad de Madrid'), (1, 'Community 7'), (1, 'Comida Casera Oriental La parada'), (1, 'Columbus Circle'), (1, 'Columbia Heights'), (1, 'Colonel By Secondary School'), (1, 'Collège LaSalle / Lasalle College'), (1, 'College Of Staten Island'), (1, 'Coleman Lake'), (1, 'Coahuila de Zaragoza'), (1, 'Cleveland Clinic - Crile Building'), (1, 'Clapham Junction Railway Station (CLJ)'), (1, 'City Winery Chicago at the Riverwalk'), (1, 'Churchills British Pub'), (1, 'Chiswick Business Park'), (1, 'China Sub Shop'), (1, 'China Moon'), (1, 'China Eastern Flight 586 LAX To Shanghai'), (1, 'Chicago'), (1, 'Chiba'), (1, 'Chesapeake Energy Arena'), (1, 'Cheltenham Racecourse'), (1, 'Charles Koch Arena'), (1, 'Changwat Chon Buri'), (1, 'Changwat Chiang Mai'), (1, 'Central SM Southmall'), (1, 'Cementerio municipal de La Chorrera'), (1, 'Cataluña'), (1, 'Casa Del Mar Seafood Restaurant & Bar'), (1, 'Caraga'), (1, 'Capital View Hotel'), (1, 'Capital O 10953 Dayal Lodge - A Boutique Hotel'), (1, 'Cape Verde'), (1, 'Canary Wharf'), (1, 'California State Prison Solano'), (1, 'California State Capitol'), (1, 'Cabell County EMS HQ'), (1, 'Cabbage Patch Bar'), (1, 'CBS 58'), (1, 'Byzantine Catholic Church'), (1, 'Bus Stop PR'), (1, 'Bursa'), (1, 'Burj On Bay'), (1, 'Brussels | Bruxelles | Brussel'), (1, 'Broxbourne'), (1, 'Brooks Atkinson Theatre'), (1, 'Brooklyn'), (1, 'Bronx'), (1, 'British Virgin Islands'), (1, 'Bristol'), (1, 'Bradfield Post Office'), (1, 'Blata Connexion'), (1, 'Blantyre Health Centre'), (1, 'Birchmore Hall'), (1, 'Berea College'), (1, 'Bellevue'), (1, 'Bell High School'), (1, 'Bear Creek Middle School'), (1, 'Bavaria'), (1, 'Basque Country'), (1, \"Baron's Xi'an Kitchen & Bar\"), (1, 'Baltimore County Historic Courthouse'), (1, 'Baltimore City Hall'), (1, 'BPI Morayta-FEU'), (1, \"BJ's Wholesale Club\"), (1, 'BBC Coventry & Warwickshire'), (1, 'Azerbaijan'), (1, 'Aventura Mall'), (1, 'Austin'), (1, 'Asda'), (1, 'Arsenal Strength - CrossFit 1812'), (1, 'Argosy Casino Hotel & Spa'), (1, 'Aosta Valley'), (1, 'Antelope Valley Courthouse'), (1, 'Ankara'), (1, 'Andrew Lobby'), (1, 'Andalusia'), (1, 'Amsterdam'), (1, 'American Red Cross'), (1, 'American Family Fields of Phoenix'), (1, 'American Copper Buildings'), (1, 'Alcove Restaurant'), (1, 'Albertus Magnus College'), (1, 'Albert Park'), (1, 'Albert Heijn'), (1, 'Alabama State House'), (1, 'Akosombo Textiles Limited'), (1, 'Akosombo Mess'), (1, 'Ahmanson Theatre'), (1, 'Aeroporto do Rio de Janeiro / Santos Dumont'), (1, 'Adelaide Crows Football Club'), (1, 'Abuja'), (1, 'ATRiuM'), (1, 'ALDI SÜD'), (1, 'ABC Sports & Fitness'), (1, '7-Eleven'), (1, '7 Eleven'), (1, '605 Third Avenue'), (1, '(AIB) Muritala Mohammed International Airport')]\n"
     ]
    }
   ],
   "source": [
    "countDict = df.groupby('genplace').count()['id'].to_dict()\n",
    "print(sorted( ((v,k) for k,v in countDict.items()), reverse=True))"
   ]
  },
  {
   "cell_type": "code",
   "execution_count": 72,
   "metadata": {},
   "outputs": [],
   "source": [
    "countries_to_model = ['USA', 'England', 'India', 'Ireland', 'Nigeria']#, 'South Africa', 'Scotland', 'Spain', 'Pakistan', 'Ghana', 'Brazil', 'Northern Ireland', 'Wales', 'France', 'Kenya', 'Argentina', 'Germany', 'Nederland', 'United Arab Emirates', 'Sri Lanka', 'Uganda', 'Indonesia', 'Türkiye', 'België', \"People's Republic of China\", 'Israel', 'Jamaica', 'Chile']"
   ]
  },
  {
   "cell_type": "code",
   "execution_count": 73,
   "metadata": {},
   "outputs": [],
   "source": [
    "final_bow =['PPE',\n",
    " 'afraid',\n",
    " 'aggravation',\n",
    " 'air',\n",
    " 'alarmed',\n",
    " 'alarming',\n",
    " 'ante la crisis',\n",
    " 'anxiety',\n",
    " 'anxious',\n",
    " 'apprehensive',\n",
    " 'atmosphere',\n",
    " 'brutal',\n",
    " 'chaos',\n",
    " 'chaotic',\n",
    " 'charity',\n",
    " 'clean air',\n",
    " 'clean water',\n",
    " 'comfort',\n",
    " 'coronavirus fear',\n",
    " 'crisis',\n",
    " 'danger',\n",
    " 'dangerous',\n",
    " 'dead',\n",
    " 'death',\n",
    " 'disaster',\n",
    " 'disastrous',\n",
    " 'distress',\n",
    " 'distressed',\n",
    " \"don't panic\",\n",
    " 'donations',\n",
    " 'earth',\n",
    " 'encourage',\n",
    " 'encouraging',\n",
    " 'environment',\n",
    " 'evil',\n",
    " 'exaggerate',\n",
    " 'exaggerating',\n",
    " 'exaggeration',\n",
    " 'faint',\n",
    " 'fantastic',\n",
    " 'fearful',\n",
    " 'fearschaos',\n",
    " 'fighter',\n",
    " 'fitness',\n",
    " 'flabbergast',\n",
    " 'flabbergasted',\n",
    " 'flatten',\n",
    " 'food wastage',\n",
    " 'freaked',\n",
    " 'free',\n",
    " 'fright',\n",
    " 'frightened',\n",
    " 'genocide',\n",
    " 'gloves',\n",
    " 'government funds',\n",
    " 'gratitude',\n",
    " 'grief',\n",
    " 'grievance',\n",
    " 'gruesome',\n",
    " 'happy',\n",
    " 'harm',\n",
    " 'healing',\n",
    " 'health issue',\n",
    " 'heartbreaking',\n",
    " 'hell',\n",
    " 'helpless',\n",
    " 'honor',\n",
    " 'hope',\n",
    " 'horrendous',\n",
    " 'horrific',\n",
    " 'horrify',\n",
    " 'horrifying',\n",
    " 'hospital',\n",
    " 'humanity',\n",
    " 'impovement',\n",
    " 'improving',\n",
    " 'kill',\n",
    " 'killed',\n",
    " 'killingthreat',\n",
    " 'kills',\n",
    " 'life-threatening',\n",
    " 'masks',\n",
    " 'meditation',\n",
    " 'mild',\n",
    " 'murder',\n",
    " 'negative',\n",
    " 'nervous',\n",
    " 'not panic',\n",
    " 'not serious',\n",
    " 'nurses',\n",
    " 'optimism',\n",
    " 'optomistic',\n",
    " 'overcome',\n",
    " 'overreact',\n",
    " 'overreacted',\n",
    " 'overreacting',\n",
    " 'ozone',\n",
    " 'panic',\n",
    " 'panick',\n",
    " 'panicked',\n",
    " 'panicking',\n",
    " 'panicky',\n",
    " 'paranoid',\n",
    " 'pasta',\n",
    " 'phobia',\n",
    " 'positive',\n",
    " 'problem',\n",
    " 'progress',\n",
    " 'promise',\n",
    " 'promosing',\n",
    " 'protect',\n",
    " 'proud',\n",
    " 'quality',\n",
    " 'ran out',\n",
    " 'rattle',\n",
    " 'rattled',\n",
    " 'recover',\n",
    " 'recovery',\n",
    " 'relief',\n",
    " 'respect',\n",
    " 'rice',\n",
    " 'risk',\n",
    " 'sad',\n",
    " 'sadness',\n",
    " 'scared',\n",
    " 'scarefear',\n",
    " 'scarier',\n",
    " 'scariest',\n",
    " 'scarily',\n",
    " 'shock',\n",
    " 'shocked',\n",
    " 'shocking',\n",
    " 'shockingly',\n",
    " 'spanish flu',\n",
    " 'strength',\n",
    " 'strong',\n",
    " 'stronger',\n",
    " 'successfully',\n",
    " 'support',\n",
    " 'surreal',\n",
    " 'terrible',\n",
    " 'terror',\n",
    " 'tests',\n",
    " 'thank you',\n",
    " 'thanks',\n",
    " 'threatening',\n",
    " 'together',\n",
    " 'toilet paper',\n",
    " 'tragic',\n",
    " 'travel alert',\n",
    " 'trust',\n",
    " 'unbearable',\n",
    " 'unhygienic',\n",
    " 'unnerve',\n",
    " 'unnerved',\n",
    " 'unnerving',\n",
    " 'unserious',\n",
    " 'upset',\n",
    " 'upseting',\n",
    " 'upsets',\n",
    " 'upsettingly',\n",
    " 'vaccine',\n",
    " 'warned'\n",
    " 'warning',\n",
    " 'wonderful',\n",
    " 'worried',\n",
    " 'worryingly',\n",
    " 'worry',]"
   ]
  },
  {
   "cell_type": "code",
   "execution_count": 74,
   "metadata": {},
   "outputs": [],
   "source": [
    "df = df.loc[df['genplace'].isin(countries_to_model)]\n",
    "df = df.reset_index(drop=True)"
   ]
  },
  {
   "cell_type": "code",
   "execution_count": 75,
   "metadata": {},
   "outputs": [
    {
     "data": {
      "text/plain": [
       "<bound method NDFrame.head of                        id                                              tweet  \\\n",
       "0     1237392757691265028  Well, I give them some credit. They acknowledg...   \n",
       "1     1237392659850780672  @ImtiazMadmood we knew corona virus back in 60...   \n",
       "2     1237392327791874054   CORONAVIRUS, COVID 19  SARS-COV-2  Birth plac...   \n",
       "3     1237392323094302720  A guy just sneezed at the back of my head. Ind...   \n",
       "4     1237392298196914183               deadass think i have the coronavirus   \n",
       "...                   ...                                                ...   \n",
       "6611  1237166707921367042  At his age, #coronavirus would put him in ICU....   \n",
       "6612  1237166699457261569  @SkyNews just heard the most irresponsible thi...   \n",
       "6613  1237166473367498752  White kid don't think he can get the coronavir...   \n",
       "6614  1237166439053828096  SO TIRED of hearing about the coronavirus. You...   \n",
       "6615  1237166326449344513  The latest on the #Coronavirus in #SouthCaroli...   \n",
       "\n",
       "                    place        date lang genplace  \n",
       "0            Florida, USA  2020-03-10   en      USA  \n",
       "1           Maryland, USA  2020-03-10   en      USA  \n",
       "2     Tezpur Rural, India  2020-03-10   en    India  \n",
       "3           Jaipur, India  2020-03-10   en    India  \n",
       "4              Texas, USA  2020-03-10   en      USA  \n",
       "...                   ...         ...  ...      ...  \n",
       "6611        Hull, England  2020-03-10   en  England  \n",
       "6612     Morpeth, England  2020-03-10   en  England  \n",
       "6613         Georgia, USA  2020-03-10   en      USA  \n",
       "6614        New York, USA  2020-03-10   en      USA  \n",
       "6615  South Carolina, USA  2020-03-10   en      USA  \n",
       "\n",
       "[6616 rows x 6 columns]>"
      ]
     },
     "execution_count": 75,
     "metadata": {},
     "output_type": "execute_result"
    }
   ],
   "source": [
    "df.head"
   ]
  },
  {
   "cell_type": "code",
   "execution_count": 76,
   "metadata": {},
   "outputs": [],
   "source": [
    "country_bows = dict()\n",
    "gmm = GMM()\n",
    "def returncountry(place, country):\n",
    "    if(country in place):\n",
    "        return True\n",
    "    return False\n",
    "for country in countries_to_model:\n",
    "    tempdf = df[df['genplace'].apply(lambda x: returncountry(x, country))].copy()\n",
    "    \n",
    "\n",
    "    tempdf.sort_values(\"id\", inplace=True)\n",
    "    \n",
    "    tempdf.drop_duplicates(subset=[\"tweet\"],inplace=True) \n",
    "    tempdf = tempdf.reset_index(drop=True)\n",
    "    \n",
    "    bow = gmm.generateBagOfWords(tempdf, 'tweet', vocab=final_bow)\n",
    "    country_tweet_count = tempdf.shape[0]\n",
    "    panicRow = np.sum(bow, axis=0)\n",
    "    panicRow = np.true_divide(panicRow, country_tweet_count)\n",
    "    country_bows[country] = panicRow\n",
    "\n",
    "\n"
   ]
  },
  {
   "cell_type": "code",
   "execution_count": 77,
   "metadata": {},
   "outputs": [
    {
     "name": "stdout",
     "output_type": "stream",
     "text": [
      "(5, 167)\n"
     ]
    }
   ],
   "source": [
    "country_index_dict = dict()\n",
    "\n",
    "bowMatrix = np.empty((1, len(final_bow)), int)\n",
    "\n",
    "index_count = 0\n",
    "for country in countries_to_model:\n",
    "    if(country in country_bows):\n",
    "        bowMatrix = np.append(bowMatrix, np.reshape(country_bows[country], (1, len(final_bow))), axis=0)\n",
    "        country_index_dict[country] = index_count\n",
    "        index_count += 1\n",
    "        \n",
    "bowMatrix = np.delete(bowMatrix, (0), axis=0)\n",
    "\n",
    "print(bowMatrix.shape)\n",
    "        "
   ]
  },
  {
   "cell_type": "code",
   "execution_count": 84,
   "metadata": {},
   "outputs": [
    {
     "data": {
      "image/png": "[encoded data removed]",
      "text/plain": [
       "<Figure size 432x288 with 1 Axes>"
      ]
     },
     "metadata": {
      "needs_background": "light"
     },
     "output_type": "display_data"
    }
   ],
   "source": [
    "from sklearn.preprocessing import StandardScaler\n",
    "from sklearn.decomposition import PCA\n",
    "from sklearn.mixture import GaussianMixture\n",
    "x = StandardScaler().fit_transform(bowMatrix)\n",
    "\n",
    "pca = PCA(2)\n",
    "x = pca.fit_transform(x)\n",
    "gmm = GaussianMixture(n_components=2, covariance_type='spherical', max_iter=10).fit(x)\n",
    "labels = gmm.predict(x)\n",
    "#probability of each class (e.g. panic and non-panic)\n",
    "panic = gmm.predict_proba(x)\n",
    "\n",
    "\n",
    "plt.scatter(x[:, 0], x[:, 1], c=labels, s=40, cmap='viridis')\n",
    "plt.show()\n",
    "\n"
   ]
  },
  {
   "cell_type": "code",
   "execution_count": 85,
   "metadata": {},
   "outputs": [
    {
     "name": "stdout",
     "output_type": "stream",
     "text": [
      "[[0.00000000e+00 1.00000000e+00]\n",
      " [0.00000000e+00 1.00000000e+00]\n",
      " [9.99999996e-01 3.71415025e-09]\n",
      " [0.00000000e+00 1.00000000e+00]\n",
      " [0.00000000e+00 1.00000000e+00]]\n",
      "[0. 0. 1. 0. 0.]\n"
     ]
    }
   ],
   "source": [
    "print(panic)\n",
    "cvalue = panic[:, 0]\n",
    "print(cvalue)"
   ]
  },
  {
   "cell_type": "code",
   "execution_count": null,
   "metadata": {},
   "outputs": [],
   "source": []
  }
 ],
 "metadata": {
  "kernelspec": {
   "display_name": "Python 3",
   "language": "python",
   "name": "python3"
  },
  "language_info": {
   "codemirror_mode": {
    "name": "ipython",
    "version": 3
   },
   "file_extension": ".py",
   "mimetype": "text/x-python",
   "name": "python",
   "nbconvert_exporter": "python",
   "pygments_lexer": "ipython3",
   "version": "3.6.9"
  }
 },
 "nbformat": 4,
 "nbformat_minor": 4
}
