{
 "cells": [
  {
   "cell_type": "code",
   "execution_count": 1,
   "metadata": {},
   "outputs": [],
   "source": [
    "import sys, os\n",
    "import pandas as pd\n",
    "import numpy as np\n",
    "from textblob import TextBlob\n",
    "import seaborn as sns\n",
    "import matplotlib.pyplot as plt\n",
    "\n",
    "sys.path.insert(1, '../scripts')\n",
    "root = os.getcwd()\n",
    "\n",
    "\n",
    "from TwintDataMiner import TwintDataMiner\n",
    "from PandasDataCleaner import PandasDataCleaner\n",
    "from TextBlobSentiment import TextBlobSentiment\n",
    "from Visualisation import Visualisation\n",
    "from GMM import GMM\n"
   ]
  },
  {
   "cell_type": "code",
   "execution_count": 2,
   "metadata": {},
   "outputs": [],
   "source": [
    "tweetsFile = \"../data/final_location_tweets.csv\"\n",
    "tdm = TwintDataMiner()\n",
    "attributes = [\"id\", \"tweet\", \"place\", \"date\"]\n",
    "df = tdm.getPandasDataFrame(attributes, tweetsFile)\n",
    "pdc = PandasDataCleaner()\n",
    "df.shape\n",
    "df.head\n",
    "df = pdc.addGeneralLocation(df)"
   ]
  },
  {
   "cell_type": "code",
   "execution_count": 3,
   "metadata": {},
   "outputs": [],
   "source": [
    "\n",
    "# df = df.groupby('genplace')['id'].nunique()\n",
    "# with pd.option_context('display.max_rows', None, 'display.max_columns', None):  # more options can be specified also\n",
    "#    print(df)"
   ]
  },
  {
   "cell_type": "code",
   "execution_count": 4,
   "metadata": {},
   "outputs": [],
   "source": [
    "states = [\"AL\", \"AK\", \"AZ\", \"AR\", \"CA\", \"CO\", \"CT\", \"DC\", \"DE\", \"FL\", \"GA\",\n",
    "\"HI\", \"ID\", \"IL\", \"IN\", \"IA\", \"KS\", \"KY\", \"LA\", \"ME\", \"MD\",\n",
    "\"MA\", \"MI\", \"MN\", \"MS\", \"MO\", \"MT\", \"NE\", \"NV\", \"NH\", \"NJ\",\n",
    "\"NM\", \"NY\", \"NC\", \"ND\", \"OH\", \"OK\", \"OR\", \"PA\", \"RI\", \"SC\",\n",
    "\"SD\", \"TN\", \"TX\", \"UT\", \"VT\", \"VA\", \"WA\", \"WV\", \"WI\", \"WY\"]\n",
    "df = df.loc[df['genplace'].isin(states)]"
   ]
  },
  {
   "cell_type": "code",
   "execution_count": 7,
   "metadata": {},
   "outputs": [
    {
     "name": "stdout",
     "output_type": "stream",
     "text": [
      "(19971, 5)\n",
      "Detecting language: 19970/19971(18920, 6)\n"
     ]
    }
   ],
   "source": [
    "print(df.shape)\n",
    "df  = pdc.detectLanguage(df, 'tweet', 'lang')\n",
    "df = pdc.cleanTweets(df, 'tweet')\n",
    "df = df.loc[df['lang'] == 'en']\n",
    "df = df.reset_index(drop=True)\n",
    "print(df.shape)"
   ]
  },
  {
   "cell_type": "code",
   "execution_count": 8,
   "metadata": {},
   "outputs": [],
   "source": [
    "saveddf = df.copy()\n",
    "df = saveddf.copy()"
   ]
  },
  {
   "cell_type": "code",
   "execution_count": 15,
   "metadata": {},
   "outputs": [],
   "source": [
    "countDict = df.groupby('genplace').count()['id'].to_dict()\n",
    "sorted_counted_states = (sorted( ((v,k) for k,v in countDict.items()), reverse=True))\n",
    "enough_tweets_states=[]\n",
    "for c,s in sorted_counted_states:\n",
    "    if(c > 90):\n",
    "        enough_tweets_states.append(s)\n",
    "df = df.loc[df['genplace'].isin(enough_tweets_states)]"
   ]
  },
  {
   "cell_type": "code",
   "execution_count": 53,
   "metadata": {},
   "outputs": [
    {
     "name": "stdout",
     "output_type": "stream",
     "text": [
      "(18462, 44)\n",
      "1622\n"
     ]
    }
   ],
   "source": [
    "vocab = ['conspiracy', '5g', 'fake', 'hoax', 'radiation', 'false', 'establishment', 'mainstream', 'media', 'poisoning', 'causes', 'brainwash', 'propaganda', 'disinformation', 'indoctrination', 'gates', 'planned', 'theory', 'science', 'policy', 'medical', 'logic', 'health', 'organisation', 'professional', 'professionals', 'journal', 'journals', 'medicine', 'biology', 'proof', 'proven', 'prove', 'scientist', 'scientists', 'brain', 'brains', 'system', 'academic', 'academics', 'study', 'studies', 'teach', 'teaching']\n",
    "gmm = GMM()\n",
    "bow = gmm.generateBagOfWords(df, 'tweet', vocab=vocab)\n",
    "print(bow.shape)\n",
    "print(np.sum(bow))"
   ]
  },
  {
   "cell_type": "code",
   "execution_count": 71,
   "metadata": {},
   "outputs": [],
   "source": [
    "state_bows = dict()\n",
    "def maxi(x, amax):\n",
    "    if(x > 0.005):\n",
    "        ratio = x / amax\n",
    "        x = 0.005 * ratio\n",
    "    return x\n",
    "def returnstate(place, state):\n",
    "    if(state in place):\n",
    "        return True\n",
    "    return False\n",
    "for state in enough_tweets_states:\n",
    "    state_bows[state] = []\n",
    "    statedf = df[df['genplace'].apply(lambda x: returnstate(x, state))].copy()\n",
    "    splitindex = int(statedf.shape[0] / 5)\n",
    "    for i in range(5):\n",
    "        tempdf = statedf[i*splitindex:(i+1)*splitindex].copy()\n",
    "        \n",
    "\n",
    "        tempdf.sort_values(\"id\", inplace=True)\n",
    "    \n",
    "        tempdf.drop_duplicates(subset=[\"tweet\"],inplace=True) \n",
    "        tempdf = tempdf.reset_index(drop=True)\n",
    "\n",
    "        bow = gmm.generateBagOfWords(tempdf, 'tweet', vocab=vocab)\n",
    "        state_tweet_count = tempdf.shape[0]\n",
    "        panicRow = np.sum(bow, axis=0)\n",
    "        if(np.sum(panicRow)):\n",
    "            panicRow = np.true_divide(panicRow, state_tweet_count)\n",
    "\n",
    "            \n",
    "            amax = np.amax(panicRow)            \n",
    "            panicRow = np.array(list(map(lambda x: maxi(x, amax), panicRow)))\n",
    "            state_bows[state] = state_bows[state] + [panicRow]\n",
    "        else:\n",
    "            panicRow = np.zeros((44, ))\n",
    "            state_bows[state] = state_bows[state] + [panicRow]\n",
    "        "
   ]
  },
  {
   "cell_type": "code",
   "execution_count": 95,
   "metadata": {},
   "outputs": [
    {
     "name": "stdout",
     "output_type": "stream",
     "text": [
      "(192, 44)\n"
     ]
    }
   ],
   "source": [
    "from sklearn.feature_extraction.text import CountVectorizer\n",
    "state_index_dict = dict()\n",
    "\n",
    "bowMatrix = np.empty((1, len(vocab)), int)\n",
    "\n",
    "index_count = 0\n",
    "for state in enough_tweets_states:\n",
    "    if(state in state_bows):\n",
    "        state_index_dict[state] = []\n",
    "        for i in range(5):\n",
    "            bowMatrix = np.append(bowMatrix, np.reshape(state_bows[state][i], (1, len(vocab))), axis=0)\n",
    "            state_index_dict[state] = state_index_dict[state] + [index_count]\n",
    "            index_count += 1\n",
    "bowMatrix = np.delete(bowMatrix, (0), axis=0)\n",
    "\n",
    "controltweet1 = ['conspiracy 5g fake hoax radiation false establishment mainstream media poisoning causes brainwash propaganda disinformation indoctrination gates planned theory']\n",
    "controltweet2 = ['science policy medical logic health organisation professional professionals journal journals medicine biology proof proven prove scientist scientists brain brains system academic academics study studies teach teaching']\n",
    "count = CountVectorizer(vocabulary=vocab)\n",
    "bag_of_words_bad = count.fit_transform(controltweet1)\n",
    "bow_bad = bag_of_words_bad.toarray()\n",
    "bow_bad = np.array(list(map(lambda x: maxi(x, 0.4), bow_bad[0])))\n",
    "\n",
    "bag_of_words_good = count.fit_transform(controltweet2)\n",
    "bow_good = bag_of_words_good.toarray()\n",
    "\n",
    "bow_good = np.array(list(map(lambda x: maxi(x, 0.4), bow_good[0])))\n",
    "\n",
    "bowMatrix = np.append(bowMatrix, np.reshape(np.true_divide(bow_bad, 2), (1, len(vocab))), axis=0)\n",
    "bowMatrix = np.append(bowMatrix, np.reshape(np.true_divide(bow_good, 2), (1, len(vocab))), axis=0)\n",
    "\n",
    "print(bowMatrix.shape)\n",
    "        "
   ]
  },
  {
   "cell_type": "code",
   "execution_count": 101,
   "metadata": {},
   "outputs": [
    {
     "name": "stdout",
     "output_type": "stream",
     "text": [
      "0.00625\n",
      "3.7500000000000004\n",
      "3.258560555479824\n",
      "gaussian iteration\n",
      "1 1\n",
      "gaussian iteration\n",
      "0 1\n"
     ]
    },
    {
     "data": {
      "image/png": "[encoded data removed]",
      "text/plain": [
       "<Figure size 432x288 with 1 Axes>"
      ]
     },
     "metadata": {
      "needs_background": "light"
     },
     "output_type": "display_data"
    }
   ],
   "source": [
    "from sklearn.preprocessing import RobustScaler\n",
    "from sklearn.decomposition import PCA\n",
    "from sklearn.mixture import GaussianMixture\n",
    "\n",
    "print(np.amax(bowMatrix))\n",
    "x = RobustScaler().fit_transform(bowMatrix)\n",
    "print(np.amax(x))\n",
    "\n",
    "pca = PCA(2)\n",
    "x = pca.fit_transform(x)\n",
    "print(np.amax(x))\n",
    "correct = False\n",
    "while(not correct):\n",
    "    print(\"gaussian iteration\")\n",
    "    gmm = GaussianMixture(n_components=2, covariance_type='tied',  max_iter=10).fit(x)\n",
    "    labels = gmm.predict(x)\n",
    "    #probability of each class (e.g. panic and non-panic)\n",
    "    panic = gmm.predict_proba(x)\n",
    "\n",
    "\n",
    "    \n",
    "    \n",
    "    print(labels[-1], labels[-2])\n",
    "    if(labels[-1] != labels[-2]):\n",
    "        correct= True\n",
    "        \n",
    "        plt.scatter(x[:, 0], x[:, 1], c=labels, s=40, cmap='viridis')\n",
    "        plt.show()"
   ]
  },
  {
   "cell_type": "code",
   "execution_count": 103,
   "metadata": {},
   "outputs": [],
   "source": [
    "state_hoax_dict = dict()\n",
    "for state in enough_tweets_states:\n",
    "    state_hoax_count = 0\n",
    "    for i in range(5):\n",
    "        state_hoax_count += (labels[state_index_dict[state][i]] == labels[-2])\n",
    "    state_hoax_dict[state] = state_hoax_count\n",
    "    \n",
    "\n"
   ]
  },
  {
   "cell_type": "code",
   "execution_count": 105,
   "metadata": {},
   "outputs": [
    {
     "name": "stdout",
     "output_type": "stream",
     "text": [
      "[[ 2.         31.61710654]\n",
      " [ 3.         52.23468558]\n",
      " [ 3.         32.39060231]\n",
      " [ 1.         49.02194142]\n",
      " [ 4.         51.68765068]\n",
      " [ 5.         38.76175307]\n",
      " [ 5.         48.5778858 ]\n",
      " [ 5.         32.28620279]\n",
      " [ 4.         41.35038665]\n",
      " [ 5.         50.77132605]\n",
      " [ 3.         60.72203369]\n",
      " [ 5.         48.67161647]\n",
      " [ 4.         49.8280947 ]\n",
      " [ 4.         33.90930473]\n",
      " [ 5.          4.07038311]\n",
      " [ 4.         44.42764701]\n",
      " [ 4.         36.83268019]\n",
      " [ 2.         47.49756422]\n",
      " [ 4.         58.08868465]\n",
      " [ 5.         56.94003345]\n",
      " [ 3.         45.50069532]\n",
      " [ 4.         43.25139737]\n",
      " [ 5.         56.77234784]\n",
      " [ 5.         62.08309236]\n",
      " [ 4.         65.32286482]\n",
      " [ 5.         45.54081659]\n",
      " [ 5.         44.9251931 ]\n",
      " [ 4.         40.92691438]\n",
      " [ 4.         54.93933269]\n",
      " [ 4.         39.09403518]\n",
      " [ 5.         47.21818457]\n",
      " [ 4.         62.51963855]\n",
      " [ 4.         56.65458181]\n",
      " [ 4.         51.16206134]\n",
      " [ 4.         58.74735113]\n",
      " [ 5.         60.57410216]\n",
      " [ 5.         57.94103809]\n",
      " [ 4.         40.04251433]]\n"
     ]
    }
   ],
   "source": [
    "presdf = pd.read_csv('../data/1976-2016-president.csv')\n",
    "plotarray = np.zeros((len(enough_tweets_states), 2))\n",
    "for idx, state in enumerate(enough_tweets_states):\n",
    "    tempdf = presdf.loc[(presdf['year'] == 2016) & (presdf['state_po'] == state) & (presdf['candidate'] == 'Trump, Donald J.')]\n",
    "    voteshare = (tempdf['candidatevotes'].iloc[0] / tempdf['totalvotes'].iloc[0]) * 100\n",
    "    plotarray[idx, 0] = state_hoax_dict[state]\n",
    "    plotarray[idx, 1] = voteshare\n",
    "\n",
    "print(plotarray)"
   ]
  },
  {
   "cell_type": "code",
   "execution_count": 106,
   "metadata": {},
   "outputs": [
    {
     "data": {
      "image/png": "[encoded data removed]",
      "text/plain": [
       "<Figure size 432x288 with 1 Axes>"
      ]
     },
     "metadata": {
      "needs_background": "light"
     },
     "output_type": "display_data"
    }
   ],
   "source": [
    "\n",
    "y = plotarray[:, 0]\n",
    "z = plotarray[:, 1]\n",
    "plt.scatter(z, y)\n",
    "plt.show()"
   ]
  }
 ],
 "metadata": {
  "kernelspec": {
   "display_name": "Python 3",
   "language": "python",
   "name": "python3"
  },
  "language_info": {
   "codemirror_mode": {
    "name": "ipython",
    "version": 3
   },
   "file_extension": ".py",
   "mimetype": "text/x-python",
   "name": "python",
   "nbconvert_exporter": "python",
   "pygments_lexer": "ipython3",
   "version": "3.6.9"
  }
 },
 "nbformat": 4,
 "nbformat_minor": 4
}
