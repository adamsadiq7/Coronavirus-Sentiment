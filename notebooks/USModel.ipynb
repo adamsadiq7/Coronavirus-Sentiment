{
 "cells": [
  {
   "cell_type": "code",
   "execution_count": 1,
   "metadata": {},
   "outputs": [],
   "source": [
    "import sys, os\n",
    "import pandas as pd\n",
    "import numpy as np\n",
    "from textblob import TextBlob\n",
    "import seaborn as sns\n",
    "import matplotlib.pyplot as plt\n",
    "\n",
    "sys.path.insert(1, '../scripts')\n",
    "root = os.getcwd()\n",
    "\n",
    "\n",
    "from TwintDataMiner import TwintDataMiner\n",
    "from PandasDataCleaner import PandasDataCleaner\n",
    "from TextBlobSentiment import TextBlobSentiment\n",
    "from Visualisation import Visualisation\n",
    "from GMM import GMM\n"
   ]
  },
  {
   "cell_type": "code",
   "execution_count": 2,
   "metadata": {},
   "outputs": [],
   "source": [
    "tweetsFile = \"../data/location_tweets1.csv\"\n",
    "tdm = TwintDataMiner()\n",
    "attributes = [\"id\", \"tweet\", \"place\", \"date\"]\n",
    "df = tdm.getPandasDataFrame(attributes, tweetsFile)\n",
    "pdc = PandasDataCleaner()\n",
    "df.shape\n",
    "df.head\n",
    "df = pdc.addGeneralLocation(df)"
   ]
  },
  {
   "cell_type": "code",
   "execution_count": 3,
   "metadata": {},
   "outputs": [],
   "source": [
    "\n",
    "# df = df.groupby('genplace')['id'].nunique()\n",
    "# with pd.option_context('display.max_rows', None, 'display.max_columns', None):  # more options can be specified also\n",
    "#    print(df)"
   ]
  },
  {
   "cell_type": "code",
   "execution_count": 4,
   "metadata": {},
   "outputs": [],
   "source": [
    "states = [\"AL\", \"AK\", \"AZ\", \"AR\", \"CA\", \"CO\", \"CT\", \"DC\", \"DE\", \"FL\", \"GA\",\n",
    "\"HI\", \"ID\", \"IL\", \"IN\", \"IA\", \"KS\", \"KY\", \"LA\", \"ME\", \"MD\",\n",
    "\"MA\", \"MI\", \"MN\", \"MS\", \"MO\", \"MT\", \"NE\", \"NV\", \"NH\", \"NJ\",\n",
    "\"NM\", \"NY\", \"NC\", \"ND\", \"OH\", \"OK\", \"OR\", \"PA\", \"RI\", \"SC\",\n",
    "\"SD\", \"TN\", \"TX\", \"UT\", \"VT\", \"VA\", \"WA\", \"WV\", \"WI\", \"WY\"]\n",
    "df = df.loc[df['genplace'].isin(states)]"
   ]
  },
  {
   "cell_type": "code",
   "execution_count": 5,
   "metadata": {},
   "outputs": [],
   "source": [
    "df = pdc.cleanTweets(df, 'tweet')\n",
    "df = df.reset_index(drop=True)"
   ]
  },
  {
   "cell_type": "code",
   "execution_count": 6,
   "metadata": {},
   "outputs": [
    {
     "name": "stdout",
     "output_type": "stream",
     "text": [
      "(1538, 17)\n",
      "71\n"
     ]
    }
   ],
   "source": [
    "vocab = ['conspiracy', '5g', 'broadband', 'fake', 'hoax', 'radiation', 'false', 'establishment', 'mainstream', 'media', 'poisoning', 'causes', 'brainwash', 'brainwashing', 'propaganda', 'disinformation', 'indoctrination']\n",
    "gmm = GMM()\n",
    "bow = gmm.generateBagOfWords(df, 'tweet', vocab=vocab)\n",
    "print(bow.shape)\n",
    "print(np.sum(bow))"
   ]
  },
  {
   "cell_type": "code",
   "execution_count": 38,
   "metadata": {},
   "outputs": [
    {
     "name": "stderr",
     "output_type": "stream",
     "text": [
      "/home/dominic/.local/lib/python3.6/site-packages/ipykernel_launcher.py:20: RuntimeWarning: invalid value encountered in true_divide\n"
     ]
    }
   ],
   "source": [
    "state_bows = dict()\n",
    "def returnstate(place, state):\n",
    "    if(state in place):\n",
    "        return True\n",
    "    return False\n",
    "for state in states:\n",
    "    tempdf = df[df['genplace'].apply(lambda x: returnstate(x, state))].copy()\n",
    "    \n",
    "\n",
    "    tempdf.sort_values(\"id\", inplace=True)\n",
    "    \n",
    "    tempdf.drop_duplicates(subset=[\"tweet\"],inplace=True) \n",
    "    tempdf = tempdf.reset_index(drop=True)\n",
    "    pdc = PandasDataCleaner()\n",
    "    tempdf = pdc.cleanTweets(tempdf, 'tweet')\n",
    "    \n",
    "    bow = gmm.generateBagOfWords(tempdf, 'tweet', vocab=vocab)\n",
    "    state_tweet_count = tempdf.shape[0]\n",
    "    panicRow = np.sum(bow, axis=0)\n",
    "    panicRow = np.true_divide(panicRow, state_tweet_count)\n",
    "    if(state_tweet_count > 9):\n",
    "        state_bows[state] = panicRow\n",
    "        \n",
    "        "
   ]
  },
  {
   "cell_type": "code",
   "execution_count": 96,
   "metadata": {},
   "outputs": [
    {
     "name": "stdout",
     "output_type": "stream",
     "text": [
      "(29, 17)\n"
     ]
    }
   ],
   "source": [
    "state_index_dict = dict()\n",
    "\n",
    "bowMatrix = np.empty((1, len(vocab)), int)\n",
    "\n",
    "index_count = 0\n",
    "for state in states:\n",
    "    if(state in state_bows):\n",
    "        bowMatrix = np.append(bowMatrix, np.reshape(state_bows[state], (1, len(vocab))), axis=0)\n",
    "        state_index_dict[state] = index_count\n",
    "        index_count += 1\n",
    "        \n",
    "bowMatrix = np.delete(bowMatrix, (0), axis=0)\n",
    "\n",
    "print(bowMatrix.shape)\n",
    "        "
   ]
  },
  {
   "cell_type": "code",
   "execution_count": 98,
   "metadata": {},
   "outputs": [
    {
     "data": {
      "image/png": "[encoded data removed]",
      "text/plain": [
       "<Figure size 432x288 with 1 Axes>"
      ]
     },
     "metadata": {
      "needs_background": "light"
     },
     "output_type": "display_data"
    }
   ],
   "source": [
    "gmm_output = gmm.modelFromBow(bowMatrix)"
   ]
  },
  {
   "cell_type": "code",
   "execution_count": 99,
   "metadata": {},
   "outputs": [
    {
     "name": "stdout",
     "output_type": "stream",
     "text": [
      "[1.00000000e+000 3.08469352e-041 1.00000000e+000 5.66690923e-181\n",
      " 5.66690923e-181 0.00000000e+000 0.00000000e+000 0.00000000e+000\n",
      " 5.66690923e-181 1.00000000e+000 5.66690923e-181 1.00000000e+000\n",
      " 5.66690923e-181 6.92852550e-069 5.66690923e-181 5.66690923e-181\n",
      " 0.00000000e+000 0.00000000e+000 0.00000000e+000 0.00000000e+000\n",
      " 5.66690923e-181 5.66690923e-181 5.66690923e-181 1.00000000e+000\n",
      " 3.29334768e-105 2.60934167e-105 1.00000000e+000 0.00000000e+000\n",
      " 1.00000000e+000]\n"
     ]
    }
   ],
   "source": [
    "cvalue = gmm_output[:, 0]\n",
    "print(cvalue)"
   ]
  },
  {
   "cell_type": "code",
   "execution_count": 100,
   "metadata": {},
   "outputs": [
    {
     "name": "stdout",
     "output_type": "stream",
     "text": [
      "[[1.00000000e+000 0.00000000e+000]\n",
      " [3.08469352e-041 0.00000000e+000]\n",
      " [1.00000000e+000 0.00000000e+000]\n",
      " [5.66690923e-181 0.00000000e+000]\n",
      " [5.66690923e-181 0.00000000e+000]\n",
      " [0.00000000e+000 0.00000000e+000]\n",
      " [0.00000000e+000 0.00000000e+000]\n",
      " [0.00000000e+000 0.00000000e+000]\n",
      " [5.66690923e-181 0.00000000e+000]\n",
      " [1.00000000e+000 0.00000000e+000]\n",
      " [5.66690923e-181 0.00000000e+000]\n",
      " [1.00000000e+000 0.00000000e+000]\n",
      " [5.66690923e-181 0.00000000e+000]\n",
      " [6.92852550e-069 0.00000000e+000]\n",
      " [5.66690923e-181 0.00000000e+000]\n",
      " [5.66690923e-181 0.00000000e+000]\n",
      " [0.00000000e+000 0.00000000e+000]\n",
      " [0.00000000e+000 0.00000000e+000]\n",
      " [0.00000000e+000 0.00000000e+000]\n",
      " [0.00000000e+000 0.00000000e+000]\n",
      " [5.66690923e-181 0.00000000e+000]\n",
      " [5.66690923e-181 0.00000000e+000]\n",
      " [5.66690923e-181 0.00000000e+000]\n",
      " [1.00000000e+000 0.00000000e+000]\n",
      " [3.29334768e-105 0.00000000e+000]\n",
      " [2.60934167e-105 0.00000000e+000]\n",
      " [1.00000000e+000 0.00000000e+000]\n",
      " [0.00000000e+000 0.00000000e+000]\n",
      " [1.00000000e+000 0.00000000e+000]]\n"
     ]
    }
   ],
   "source": [
    "x = np.zeros((len(cvalue),2))\n",
    "x[:, 0] = cvalue\n",
    "print(x)\n",
    "\n",
    "\n"
   ]
  },
  {
   "cell_type": "code",
   "execution_count": 101,
   "metadata": {},
   "outputs": [
    {
     "name": "stdout",
     "output_type": "stream",
     "text": [
      "[[1.00000000e+000 6.20830924e+001]\n",
      " [3.08469352e-041 4.86716165e+001]\n",
      " [1.00000000e+000 3.16171065e+001]\n",
      " [5.66690923e-181 4.32513974e+001]\n",
      " [5.66690923e-181 4.09269144e+001]\n",
      " [0.00000000e+000 4.07038311e+000]\n",
      " [0.00000000e+000 4.90219414e+001]\n",
      " [0.00000000e+000 5.07713261e+001]\n",
      " [5.66690923e-181 3.87617531e+001]\n",
      " [1.00000000e+000 5.69400334e+001]\n",
      " [5.66690923e-181 5.80886847e+001]\n",
      " [1.00000000e+000 3.39093047e+001]\n",
      " [5.66690923e-181 3.22862028e+001]\n",
      " [6.92852550e-069 4.74975642e+001]\n",
      " [5.66690923e-181 4.49251931e+001]\n",
      " [5.66690923e-181 5.67723478e+001]\n",
      " [0.00000000e+000 4.13503867e+001]\n",
      " [0.00000000e+000 3.23906023e+001]\n",
      " [0.00000000e+000 4.98280947e+001]\n",
      " [0.00000000e+000 5.16876507e+001]\n",
      " [5.66690923e-181 6.53228648e+001]\n",
      " [5.66690923e-181 4.85778858e+001]\n",
      " [5.66690923e-181 3.88980575e+001]\n",
      " [1.00000000e+000 5.49393327e+001]\n",
      " [3.29334768e-105 6.07220337e+001]\n",
      " [2.60934167e-105 5.22346856e+001]\n",
      " [1.00000000e+000 4.44276470e+001]\n",
      " [0.00000000e+000 3.68326802e+001]\n",
      " [1.00000000e+000 4.72181846e+001]]\n"
     ]
    }
   ],
   "source": [
    "presdf = pd.read_csv('../data/1976-2016-president.csv')\n",
    "for state in state_index_dict:\n",
    "    tempdf = presdf.loc[(presdf['year'] == 2016) & (presdf['state_po'] == state) & (presdf['candidate'] == 'Trump, Donald J.')]\n",
    "    voteshare = (tempdf['candidatevotes'].iloc[0] / tempdf['totalvotes'].iloc[0]) * 100\n",
    "    x[state_index_dict[state], 1] = voteshare\n",
    "\n",
    "print(x)"
   ]
  },
  {
   "cell_type": "code",
   "execution_count": 102,
   "metadata": {},
   "outputs": [
    {
     "data": {
      "image/png": "[encoded data removed]",
      "text/plain": [
       "<Figure size 432x288 with 1 Axes>"
      ]
     },
     "metadata": {
      "needs_background": "light"
     },
     "output_type": "display_data"
    }
   ],
   "source": [
    "\n",
    "y = x[:, 0]\n",
    "z = x[:, 1]\n",
    "plt.scatter(z, y)\n",
    "plt.show()"
   ]
  }
 ],
 "metadata": {
  "kernelspec": {
   "display_name": "Python 3",
   "language": "python",
   "name": "python3"
  },
  "language_info": {
   "codemirror_mode": {
    "name": "ipython",
    "version": 3
   },
   "file_extension": ".py",
   "mimetype": "text/x-python",
   "name": "python",
   "nbconvert_exporter": "python",
   "pygments_lexer": "ipython3",
   "version": "3.6.9"
  }
 },
 "nbformat": 4,
 "nbformat_minor": 4
}
