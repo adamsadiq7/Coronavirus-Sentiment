{
 "cells": [
  {
   "cell_type": "code",
   "execution_count": 7,
   "metadata": {},
   "outputs": [],
   "source": [
    "import pandas as pd\n",
    "import geopandas as gpd\n",
    "import urllib\n",
    "import json\n",
    "import pycountry"
   ]
  },
  {
   "cell_type": "code",
   "execution_count": 8,
   "metadata": {},
   "outputs": [],
   "source": [
    "# JSON time-series of coronavirus cases (confirmed, deaths and recovered) per country - updated daily on github\n",
    "with urllib.request.urlopen(\"https://pomber.github.io/covid19/timeseries.json\") as url:\n",
    "    data = json.loads(url.read().decode())"
   ]
  },
  {
   "cell_type": "code",
   "execution_count": 23,
   "metadata": {},
   "outputs": [
    {
     "name": "stdout",
     "output_type": "stream",
     "text": [
      "            entity code      dates  confirmed\n",
      "0      Afghanistan  AFG  2020-1-22          0\n",
      "1      Afghanistan  AFG  2020-1-23          0\n",
      "2      Afghanistan  AFG  2020-1-24          0\n",
      "3      Afghanistan  AFG  2020-1-25          0\n",
      "4      Afghanistan  AFG  2020-1-26          0\n",
      "...            ...  ...        ...        ...\n",
      "16645        Yemen  YEM  2020-4-16          1\n",
      "16646        Yemen  YEM  2020-4-17          1\n",
      "16647        Yemen  YEM  2020-4-18          1\n",
      "16648        Yemen  YEM  2020-4-19          1\n",
      "16649        Yemen  YEM  2020-4-20          1\n",
      "\n",
      "[16650 rows x 4 columns]\n"
     ]
    }
   ],
   "source": [
    "# creates a data frame for the option selected choice between confirmed cases deaths or recoveries\n",
    "def corona_stats(option):   \n",
    "    options = ['confirmed', 'deaths', 'recovered']\n",
    "    if option not in options: option = option[0]\n",
    "        \n",
    "    columns = ['entity', 'code', 'dates', option]\n",
    "    gdata = []\n",
    "    for c in data.keys():\n",
    "        for d in range(len(data[c])):\n",
    "            country = pycountry.countries.get(name =c)\n",
    "            if(country== None): country = pycountry.countries.get(common_name =c)\n",
    "            if(country != None):\n",
    "                       code = country.alpha_3\n",
    "            if(c == 'US'): code = \"USA\"\n",
    "            if(c == 'Russia'): code = \"RUS\"\n",
    "            if(c == 'Vietnam'): code = \"VNM\"\n",
    "            if(c == 'Taiwan*'): code = \"TWN\"\n",
    "#             print(data[c][d])\n",
    "            gdata.append([c, code, data[c][d]['date'], data[c][d][option]])\n",
    "    df = pd.DataFrame(gdata,columns=columns)\n",
    "    return df\n",
    "\n",
    "df = corona_stats('confirmed')\n",
    "print(df)"
   ]
  },
  {
   "cell_type": "code",
   "execution_count": 24,
   "metadata": {},
   "outputs": [
    {
     "name": "stdout",
     "output_type": "stream",
     "text": [
      "                       country country_code  \\\n",
      "0                         Fiji          FJI   \n",
      "1  United Republic of Tanzania          TZA   \n",
      "2               Western Sahara          SAH   \n",
      "3                       Canada          CAN   \n",
      "4     United States of America          USA   \n",
      "\n",
      "                                            geometry  \n",
      "0  MULTIPOLYGON (((180.00000 -16.06713, 180.00000...  \n",
      "1  POLYGON ((33.90371 -0.95000, 34.07262 -1.05982...  \n",
      "2  POLYGON ((-8.66559 27.65643, -8.66512 27.58948...  \n",
      "3  MULTIPOLYGON (((-122.84000 49.00000, -122.9742...  \n",
      "4  MULTIPOLYGON (((-122.84000 49.00000, -120.0000...  \n"
     ]
    }
   ],
   "source": [
    "# loads countries for the map into a df and gets rid of antartica\n",
    "shapefile = '../data/countries_110m/ne_110m_admin_0_countries.shp'\n",
    "gdf = gpd.read_file(shapefile)[['ADMIN', 'ADM0_A3', 'geometry']]\n",
    "gdf.columns = ['country', 'country_code', 'geometry']\n",
    "print(gdf.head())\n",
    "gdf = gdf.drop(gdf.index[159])"
   ]
  },
  {
   "cell_type": "code",
   "execution_count": 12,
   "metadata": {},
   "outputs": [
    {
     "name": "stdout",
     "output_type": "stream",
     "text": [
      "        country country_code  \\\n",
      "159  Antarctica          ATA   \n",
      "\n",
      "                                              geometry  \n",
      "159  MULTIPOLYGON (((-48.66062 -78.04702, -48.15140...  \n"
     ]
    }
   ],
   "source": [
    "def json_data(date):\n",
    "    df = df[df['dates'] == date]\n",
    "    merged = gdf.merge(df, left_on = 'country_code', right_on = 'code', how = 'left')\n",
    "    merged.fillna('No data', inplace = True)\n",
    "    merged_json = json.loads(merged.to_json())\n",
    "    json_data = json.dumps(merged_json)\n",
    "    return json_data\n"
   ]
  },
  {
   "cell_type": "code",
   "execution_count": null,
   "metadata": {},
   "outputs": [],
   "source": []
  }
 ],
 "metadata": {
  "kernelspec": {
   "display_name": "Python 3",
   "language": "python",
   "name": "python3"
  },
  "language_info": {
   "codemirror_mode": {
    "name": "ipython",
    "version": 3
   },
   "file_extension": ".py",
   "mimetype": "text/x-python",
   "name": "python",
   "nbconvert_exporter": "python",
   "pygments_lexer": "ipython3",
   "version": "3.7.6"
  }
 },
 "nbformat": 4,
 "nbformat_minor": 4
}
