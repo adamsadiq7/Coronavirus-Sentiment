{
 "cells": [
  {
   "cell_type": "code",
   "execution_count": 1,
   "metadata": {},
   "outputs": [],
   "source": [
    "import sys, os\n",
    "import pandas as pd\n",
    "import numpy as np\n",
    "from textblob import TextBlob\n",
    "import seaborn as sns\n",
    "import matplotlib.pyplot as plt\n",
    "\n",
    "sys.path.insert(1, '../scripts')\n",
    "root = os.getcwd()\n",
    "\n",
    "from TwintDataMiner import TwintDataMiner\n",
    "from PandasDataCleaner import PandasDataCleaner\n",
    "from TextBlobSentiment import TextBlobSentiment\n",
    "from Visualisation import Visualisation\n",
    "from GMM import GMM\n"
   ]
  },
  {
   "cell_type": "code",
   "execution_count": 2,
   "metadata": {},
   "outputs": [
    {
     "data": {
      "text/plain": [
       "<bound method NDFrame.head of                         id                                              tweet  \\\n",
       "0                       id                                              tweet   \n",
       "1      1212480089155354628  El M*gnici*io es la única opción para Venezuel...   \n",
       "2      1212479875220566016  plying to @ironorehopper\\nInteresting, further...   \n",
       "3      1212475589325676544  Bienvenidos a los Fabulosos años 20 con @Mierc...   \n",
       "4      1212473830758899715  Meu Deus, tão inventando nome pra tudo \"White ...   \n",
       "...                    ...                                                ...   \n",
       "89952  1247297335035641859  Wisconsin Supreme Court, on primary eve, block...   \n",
       "89953  1247297334741999616  What is becoming of us?    Teen Girls Attack #...   \n",
       "89954  1247297333743751168  Why does every article about this talks about ...   \n",
       "89955  1247297333676605440  Recado para senhora corona vírus:\\n\\nse vc se ...   \n",
       "89956  1247297333601153024  Schumer names coronavirus czar candidates in p...   \n",
       "\n",
       "       place        date  \n",
       "0      place        date  \n",
       "1             2020-01-01  \n",
       "2             2020-01-01  \n",
       "3             2020-01-01  \n",
       "4             2020-01-01  \n",
       "...      ...         ...  \n",
       "89952         2020-04-06  \n",
       "89953         2020-04-06  \n",
       "89954         2020-04-06  \n",
       "89955         2020-04-06  \n",
       "89956         2020-04-06  \n",
       "\n",
       "[89957 rows x 4 columns]>"
      ]
     },
     "execution_count": 2,
     "metadata": {},
     "output_type": "execute_result"
    }
   ],
   "source": [
    "tweetsFile = \"../data/1000TweetsPerDay.csv\"\n",
    "tdm = TwintDataMiner()\n",
    "attributes = [\"id\", \"tweet\", \"place\", \"date\"]\n",
    "df = tdm.getPandasDataFrame(attributes, tweetsFile)\n",
    "df.shape\n",
    "df.head"
   ]
  },
  {
   "cell_type": "code",
   "execution_count": 3,
   "metadata": {},
   "outputs": [
    {
     "data": {
      "text/plain": [
       "(89957, 4)"
      ]
     },
     "execution_count": 3,
     "metadata": {},
     "output_type": "execute_result"
    }
   ],
   "source": [
    "df.drop_duplicates(subset='id')\n",
    "df.shape"
   ]
  },
  {
   "cell_type": "code",
   "execution_count": 13,
   "metadata": {},
   "outputs": [],
   "source": [
    "pdc = PandasDataCleaner()\n",
    "def cleandf(df):\n",
    "\n",
    "    df  = pdc.detectLanguage(df, 'tweet', 'lang') \n",
    "    df = pdc.cleanTweets(df, 'tweet')\n",
    "\n",
    "#     df = df.loc[df['lang'] == 'en']\n",
    "\n",
    "    df = df.reset_index(drop=True)\n",
    "\n",
    "    return df"
   ]
  },
  {
   "cell_type": "code",
   "execution_count": 14,
   "metadata": {},
   "outputs": [
    {
     "name": "stdout",
     "output_type": "stream",
     "text": [
      "matey\n",
      "Clearing output row\n",
      "Exception! 0\n",
      "['teen', 'girl', 'attack', 'asian', 'woman', 'accus', 'caus', 'coronavirus']\n"
     ]
    },
    {
     "name": "stderr",
     "output_type": "stream",
     "text": [
      "../scripts/PandasDataCleaner.py:26: SettingWithCopyWarning: \n",
      "A value is trying to be set on a copy of a slice from a DataFrame.\n",
      "Try using .loc[row_indexer,col_indexer] = value instead\n",
      "\n",
      "See the caveats in the documentation: https://pandas.pydata.org/pandas-docs/stable/user_guide/indexing.html#returning-a-view-versus-a-copy\n",
      "  df[outputRow] = \"\"\n",
      "/opt/conda/lib/python3.7/site-packages/pandas/core/indexing.py:671: SettingWithCopyWarning: \n",
      "A value is trying to be set on a copy of a slice from a DataFrame\n",
      "\n",
      "See the caveats in the documentation: https://pandas.pydata.org/pandas-docs/stable/user_guide/indexing.html#returning-a-view-versus-a-copy\n",
      "  self._setitem_with_indexer(indexer, value)\n",
      "/opt/conda/lib/python3.7/site-packages/ipykernel_launcher.py:4: SettingWithCopyWarning: \n",
      "A value is trying to be set on a copy of a slice from a DataFrame\n",
      "\n",
      "See the caveats in the documentation: https://pandas.pydata.org/pandas-docs/stable/user_guide/indexing.html#returning-a-view-versus-a-copy\n",
      "  after removing the cwd from sys.path.\n",
      "../scripts/PandasDataCleaner.py:37: SettingWithCopyWarning: \n",
      "A value is trying to be set on a copy of a slice from a DataFrame.\n",
      "Try using .loc[row_indexer,col_indexer] = value instead\n",
      "\n",
      "See the caveats in the documentation: https://pandas.pydata.org/pandas-docs/stable/user_guide/indexing.html#returning-a-view-versus-a-copy\n",
      "  df[inputRow] = df[inputRow].apply(lambda x: self.removeUrl(self.removeCharacters(x)))\n"
     ]
    }
   ],
   "source": [
    "clean_tweets = cleandf(df[89953:89954])\n",
    "tempdf = clean_tweets\n",
    "\n",
    "doc_sample = tempdf['tweet']\n",
    "\n",
    "doc_sample = doc_sample.iloc[0]\n",
    "from LDA import LDA\n",
    "lda = LDA()\n",
    "\n",
    "print(lda.preprocess(text=f\"{doc_sample}\"))"
   ]
  },
  {
   "cell_type": "code",
   "execution_count": 6,
   "metadata": {},
   "outputs": [
    {
     "ename": "NameError",
     "evalue": "name 'GMM' is not defined",
     "output_type": "error",
     "traceback": [
      "\u001b[0;31m---------------------------------------------------------------------------\u001b[0m",
      "\u001b[0;31mNameError\u001b[0m                                 Traceback (most recent call last)",
      "\u001b[0;32m<ipython-input-6-664ed3b59ff1>\u001b[0m in \u001b[0;36m<module>\u001b[0;34m\u001b[0m\n\u001b[1;32m      1\u001b[0m \u001b[0mvocab\u001b[0m \u001b[0;34m=\u001b[0m \u001b[0;34m[\u001b[0m\u001b[0;34m'death'\u001b[0m\u001b[0;34m,\u001b[0m \u001b[0;34m'deaths'\u001b[0m\u001b[0;34m,\u001b[0m \u001b[0;34m'ventilator'\u001b[0m\u001b[0;34m,\u001b[0m \u001b[0;34m'ventilators'\u001b[0m\u001b[0;34m,\u001b[0m \u001b[0;34m'crisis'\u001b[0m\u001b[0;34m,\u001b[0m \u001b[0;34m'scared'\u001b[0m\u001b[0;34m,\u001b[0m \u001b[0;34m'tragedy'\u001b[0m\u001b[0;34m,\u001b[0m \u001b[0;34m'struggling'\u001b[0m\u001b[0;34m]\u001b[0m\u001b[0;34m\u001b[0m\u001b[0;34m\u001b[0m\u001b[0m\n\u001b[1;32m      2\u001b[0m \u001b[0mbowMatrix\u001b[0m \u001b[0;34m=\u001b[0m \u001b[0mnp\u001b[0m\u001b[0;34m.\u001b[0m\u001b[0mempty\u001b[0m\u001b[0;34m(\u001b[0m\u001b[0;34m(\u001b[0m\u001b[0;36m1\u001b[0m\u001b[0;34m,\u001b[0m \u001b[0mlen\u001b[0m\u001b[0;34m(\u001b[0m\u001b[0mvocab\u001b[0m\u001b[0;34m)\u001b[0m\u001b[0;34m)\u001b[0m\u001b[0;34m,\u001b[0m \u001b[0mint\u001b[0m\u001b[0;34m)\u001b[0m\u001b[0;34m\u001b[0m\u001b[0;34m\u001b[0m\u001b[0m\n\u001b[0;32m----> 3\u001b[0;31m \u001b[0mgmm\u001b[0m \u001b[0;34m=\u001b[0m \u001b[0mGMM\u001b[0m\u001b[0;34m(\u001b[0m\u001b[0;34m)\u001b[0m\u001b[0;34m\u001b[0m\u001b[0;34m\u001b[0m\u001b[0m\n\u001b[0m\u001b[1;32m      4\u001b[0m \u001b[0;31m#generate bag of words for each day and add to matrix\u001b[0m\u001b[0;34m\u001b[0m\u001b[0;34m\u001b[0m\u001b[0;34m\u001b[0m\u001b[0m\n\u001b[1;32m      5\u001b[0m \u001b[0;32mfor\u001b[0m \u001b[0mj\u001b[0m \u001b[0;32min\u001b[0m \u001b[0mrange\u001b[0m\u001b[0;34m(\u001b[0m\u001b[0;36m1\u001b[0m\u001b[0;34m,\u001b[0m\u001b[0;36m5\u001b[0m\u001b[0;34m)\u001b[0m\u001b[0;34m:\u001b[0m\u001b[0;34m\u001b[0m\u001b[0;34m\u001b[0m\u001b[0m\n",
      "\u001b[0;31mNameError\u001b[0m: name 'GMM' is not defined"
     ]
    }
   ],
   "source": [
    "vocab = ['death', 'deaths', 'ventilator', 'ventilators', 'crisis', 'scared', 'tragedy', 'struggling']\n",
    "bowMatrix = np.empty((1, len(vocab)), int)\n",
    "gmm = GMM()\n",
    "#generate bag of words for each day and add to matrix\n",
    "for j in range(1,5):\n",
    "    for i in range(1,32):\n",
    "        if(not((j == 1 and i < 10) or (j == 2 and i > 29) or (j ==4 and i > 6))):\n",
    "            date = \"2020-0\" + str(j) + \"-\" + str(i).zfill(2)\n",
    "            print(date)\n",
    "            tempdf = df[df.date == date].copy()\n",
    "            tempdf = tempdf.reset_index(drop=True)\n",
    "\n",
    "            tempdf.sort_values(\"id\", inplace=True) \n",
    "  \n",
    "            # dropping duplicate values \n",
    "            tempdf.drop_duplicates(subset=[\"tweet\"],inplace=True)\n",
    "            pdc = PandasDataCleaner()\n",
    "            tempdf  = pdc.detectLanguage(tempdf, 'tweet', 'lang')\n",
    "            tempdf = tempdf.loc[tempdf['lang'] == 'en']\n",
    "            tempdf = pdc.cleanTweets(tempdf, 'tweet')\n",
    "            tempdf = tempdf[:250]\n",
    "            print(tempdf)\n",
    "            \n",
    "            \n",
    "            bow = gmm.generateBagOfWords(tempdf, 'tweet', vocab=vocab)\n",
    "            #get total bag of words for day\n",
    "            panicRow = np.sum(bow, axis=0)\n",
    "            bowMatrix = np.append(bowMatrix, np.reshape(panicRow, (1, len(vocab))), axis=0)\n",
    "            \n",
    "#delete row created for initialisation          \n",
    "bowMatrix = np.delete(bowMatrix, (0), axis=0)\n",
    "print(bowMatrix.shape)\n",
    "print(bowMatrix)\n"
   ]
  },
  {
   "cell_type": "code",
   "execution_count": 7,
   "metadata": {},
   "outputs": [
    {
     "ename": "NameError",
     "evalue": "name 'gmm' is not defined",
     "output_type": "error",
     "traceback": [
      "\u001b[0;31m---------------------------------------------------------------------------\u001b[0m",
      "\u001b[0;31mNameError\u001b[0m                                 Traceback (most recent call last)",
      "\u001b[0;32m<ipython-input-7-62944a9951e4>\u001b[0m in \u001b[0;36m<module>\u001b[0;34m\u001b[0m\n\u001b[0;32m----> 1\u001b[0;31m \u001b[0mpanic\u001b[0m \u001b[0;34m=\u001b[0m \u001b[0mgmm\u001b[0m\u001b[0;34m.\u001b[0m\u001b[0mmodelFromBow\u001b[0m\u001b[0;34m(\u001b[0m\u001b[0mbowMatrix\u001b[0m\u001b[0;34m)\u001b[0m\u001b[0;34m\u001b[0m\u001b[0;34m\u001b[0m\u001b[0m\n\u001b[0m",
      "\u001b[0;31mNameError\u001b[0m: name 'gmm' is not defined"
     ]
    }
   ],
   "source": [
    "panic = gmm.modelFromBow(bowMatrix)"
   ]
  },
  {
   "cell_type": "code",
   "execution_count": 8,
   "metadata": {},
   "outputs": [
    {
     "ename": "NameError",
     "evalue": "name 'panic' is not defined",
     "output_type": "error",
     "traceback": [
      "\u001b[0;31m---------------------------------------------------------------------------\u001b[0m",
      "\u001b[0;31mNameError\u001b[0m                                 Traceback (most recent call last)",
      "\u001b[0;32m<ipython-input-8-8d1dac52c4d9>\u001b[0m in \u001b[0;36m<module>\u001b[0;34m\u001b[0m\n\u001b[0;32m----> 1\u001b[0;31m \u001b[0mprint\u001b[0m\u001b[0;34m(\u001b[0m\u001b[0mpanic\u001b[0m\u001b[0;34m)\u001b[0m\u001b[0;34m\u001b[0m\u001b[0;34m\u001b[0m\u001b[0m\n\u001b[0m",
      "\u001b[0;31mNameError\u001b[0m: name 'panic' is not defined"
     ]
    }
   ],
   "source": [
    "print(panic)"
   ]
  },
  {
   "cell_type": "code",
   "execution_count": 9,
   "metadata": {},
   "outputs": [
    {
     "ename": "NameError",
     "evalue": "name 'panic' is not defined",
     "output_type": "error",
     "traceback": [
      "\u001b[0;31m---------------------------------------------------------------------------\u001b[0m",
      "\u001b[0;31mNameError\u001b[0m                                 Traceback (most recent call last)",
      "\u001b[0;32m<ipython-input-9-4969c1b77857>\u001b[0m in \u001b[0;36m<module>\u001b[0;34m\u001b[0m\n\u001b[0;32m----> 1\u001b[0;31m \u001b[0monePanic\u001b[0m \u001b[0;34m=\u001b[0m \u001b[0mpanic\u001b[0m\u001b[0;34m[\u001b[0m\u001b[0;34m:\u001b[0m\u001b[0;34m,\u001b[0m \u001b[0;36m0\u001b[0m\u001b[0;34m]\u001b[0m\u001b[0;34m\u001b[0m\u001b[0;34m\u001b[0m\u001b[0m\n\u001b[0m\u001b[1;32m      2\u001b[0m \u001b[0mprint\u001b[0m\u001b[0;34m(\u001b[0m\u001b[0monePanic\u001b[0m\u001b[0;34m)\u001b[0m\u001b[0;34m\u001b[0m\u001b[0;34m\u001b[0m\u001b[0m\n",
      "\u001b[0;31mNameError\u001b[0m: name 'panic' is not defined"
     ]
    }
   ],
   "source": [
    "onePanic = panic[:, 0]\n",
    "print(onePanic)"
   ]
  },
  {
   "cell_type": "code",
   "execution_count": 10,
   "metadata": {},
   "outputs": [
    {
     "ename": "NameError",
     "evalue": "name 'plt' is not defined",
     "output_type": "error",
     "traceback": [
      "\u001b[0;31m---------------------------------------------------------------------------\u001b[0m",
      "\u001b[0;31mNameError\u001b[0m                                 Traceback (most recent call last)",
      "\u001b[0;32m<ipython-input-10-1afc251e049e>\u001b[0m in \u001b[0;36m<module>\u001b[0;34m\u001b[0m\n\u001b[0;32m----> 1\u001b[0;31m \u001b[0mplt\u001b[0m\u001b[0;34m.\u001b[0m\u001b[0mplot\u001b[0m\u001b[0;34m(\u001b[0m\u001b[0monePanic\u001b[0m\u001b[0;34m)\u001b[0m\u001b[0;34m\u001b[0m\u001b[0;34m\u001b[0m\u001b[0m\n\u001b[0m\u001b[1;32m      2\u001b[0m \u001b[0mplt\u001b[0m\u001b[0;34m.\u001b[0m\u001b[0mshow\u001b[0m\u001b[0;34m(\u001b[0m\u001b[0;34m)\u001b[0m\u001b[0;34m\u001b[0m\u001b[0;34m\u001b[0m\u001b[0m\n",
      "\u001b[0;31mNameError\u001b[0m: name 'plt' is not defined"
     ]
    }
   ],
   "source": [
    "plt.plot(onePanic)\n",
    "plt.show()"
   ]
  },
  {
   "cell_type": "code",
   "execution_count": null,
   "metadata": {},
   "outputs": [],
   "source": []
  }
 ],
 "metadata": {
  "kernelspec": {
   "display_name": "Python 3",
   "language": "python",
   "name": "python3"
  },
  "language_info": {
   "codemirror_mode": {
    "name": "ipython",
    "version": 3
   },
   "file_extension": ".py",
   "mimetype": "text/x-python",
   "name": "python",
   "nbconvert_exporter": "python",
   "pygments_lexer": "ipython3",
   "version": "3.7.6"
  }
 },
 "nbformat": 4,
 "nbformat_minor": 4
}
