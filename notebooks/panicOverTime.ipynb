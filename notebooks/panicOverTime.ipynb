{
 "cells": [
  {
   "cell_type": "code",
   "execution_count": 1,
   "metadata": {},
   "outputs": [],
   "source": [
    "import sys, os\n",
    "import pandas as pd\n",
    "import numpy as np\n",
    "from textblob import TextBlob\n",
    "import seaborn as sns\n",
    "import matplotlib.pyplot as plt\n",
    "\n",
    "sys.path.insert(1, '../scripts')\n",
    "root = os.getcwd()\n",
    "\n",
    "\n",
    "from TwintDataMiner import TwintDataMiner\n",
    "from PandasDataCleaner import PandasDataCleaner\n",
    "from TextBlobSentiment import TextBlobSentiment\n",
    "from Visualisation import Visualisation\n",
    "from GMM import GMM\n"
   ]
  },
  {
   "cell_type": "code",
   "execution_count": 2,
   "metadata": {},
   "outputs": [
    {
     "data": {
      "text/plain": [
       "<bound method NDFrame.head of                         id                                              tweet  \\\n",
       "0                       id                                              tweet   \n",
       "1      1212480089155354628  El M*gnici*io es la única opción para Venezuel...   \n",
       "2      1212479875220566016  plying to @ironorehopper\\nInteresting, further...   \n",
       "3      1212475589325676544  Bienvenidos a los Fabulosos años 20 con @Mierc...   \n",
       "4      1212473830758899715  Meu Deus, tão inventando nome pra tudo \"White ...   \n",
       "...                    ...                                                ...   \n",
       "89952  1247297335035641859  Wisconsin Supreme Court, on primary eve, block...   \n",
       "89953  1247297334741999616  What is becoming of us?    Teen Girls Attack #...   \n",
       "89954  1247297333743751168  Why does every article about this talks about ...   \n",
       "89955  1247297333676605440  Recado para senhora corona vírus:\\n\\nse vc se ...   \n",
       "89956  1247297333601153024  Schumer names coronavirus czar candidates in p...   \n",
       "\n",
       "       place        date  \n",
       "0      place        date  \n",
       "1             2020-01-01  \n",
       "2             2020-01-01  \n",
       "3             2020-01-01  \n",
       "4             2020-01-01  \n",
       "...      ...         ...  \n",
       "89952         2020-04-06  \n",
       "89953         2020-04-06  \n",
       "89954         2020-04-06  \n",
       "89955         2020-04-06  \n",
       "89956         2020-04-06  \n",
       "\n",
       "[89957 rows x 4 columns]>"
      ]
     },
     "execution_count": 2,
     "metadata": {},
     "output_type": "execute_result"
    }
   ],
   "source": [
    "tweetsFile = \"../data/1000TweetsPerDay.csv\"\n",
    "tdm = TwintDataMiner()\n",
    "attributes = [\"id\", \"tweet\", \"place\", \"date\"]\n",
    "df = tdm.getPandasDataFrame(attributes, tweetsFile)\n",
    "df.shape\n",
    "df.head"
   ]
  },
  {
   "cell_type": "code",
   "execution_count": 3,
   "metadata": {},
   "outputs": [
    {
     "data": {
      "text/plain": [
       "(89957, 4)"
      ]
     },
     "execution_count": 3,
     "metadata": {},
     "output_type": "execute_result"
    }
   ],
   "source": [
    "df.drop_duplicates(subset='id')\n",
    "df.shape"
   ]
  },
  {
   "cell_type": "code",
   "execution_count": 4,
   "metadata": {},
   "outputs": [],
   "source": [
    "pdc = PandasDataCleaner()\n",
    "def cleandf(df):\n",
    "    df  = pdc.detectLanguage(df, 'tweet', 'lang')\n",
    "    df = pdc.cleanTweets(df, 'tweet')\n",
    "    df = df.loc[df['lang'] == 'en']\n",
    "    df = df.reset_index(drop=True)\n",
    "    return df"
   ]
  },
  {
   "cell_type": "code",
   "execution_count": null,
   "metadata": {},
   "outputs": [
    {
     "name": "stdout",
     "output_type": "stream",
     "text": [
      "2020-01-10\n",
      "2020-01-11\n",
      "2020-01-12\n",
      "2020-01-13\n",
      "2020-01-14\n",
      "2020-01-15\n",
      "2020-01-16\n",
      "2020-01-17\n",
      "2020-01-18\n",
      "2020-01-19\n"
     ]
    }
   ],
   "source": [
    "vocab = ['death', 'deaths', 'ventilator', 'ventilators', 'crisis', 'scared', 'tragedy', 'struggling']\n",
    "bowMatrix = np.empty((1, len(vocab)), int)\n",
    "gmm = GMM()\n",
    "#generate bag of words for each day and add to matrix\n",
    "for j in range(1,5):\n",
    "    for i in range(1,32):\n",
    "        if(not((j == 1 and i < 10) or (j == 2 and i > 29) or (j ==4 and i > 6))):\n",
    "            date = \"2020-0\" + str(j) + \"-\" + str(i).zfill(2)\n",
    "            print(date)\n",
    "            tempdf = df[df.date == date].copy()\n",
    "            tempdf = tempdf.reset_index(drop=True)\n",
    "\n",
    "            tempdf.sort_values(\"id\", inplace=True) \n",
    "  \n",
    "            # dropping duplicate values \n",
    "            tempdf.drop_duplicates(subset=[\"tweet\"],inplace=True) \n",
    "            pdc = PandasDataCleaner()\n",
    "            tempdf  = pdc.detectLanguage(tempdf, 'tweet', 'lang')\n",
    "            tempdf = tempdf.loc[tempdf['lang'] == 'en']\n",
    "            tempdf = pdc.cleanTweets(tempdf, 'tweet')\n",
    "            tempdf =tempdf[:250]\n",
    "            \n",
    "            \n",
    "            bow = gmm.generateBagOfWords(tempdf, 'tweet', vocab=vocab)\n",
    "            #get total bag of words for day\n",
    "            panicRow = np.sum(bow, axis=0)\n",
    "            bowMatrix = np.append(bowMatrix, np.reshape(panicRow, (1, len(vocab))), axis=0)\n",
    "            \n",
    "#delete row created for initialisation          \n",
    "bowMatrix = np.delete(bowMatrix, (0), axis=0)\n",
    "print(bowMatrix.shape)\n",
    "print(bowMatrix)\n"
   ]
  },
  {
   "cell_type": "code",
   "execution_count": null,
   "metadata": {},
   "outputs": [],
   "source": [
    "panic = gmm.modelFromBow(bowMatrix)"
   ]
  },
  {
   "cell_type": "code",
   "execution_count": null,
   "metadata": {},
   "outputs": [],
   "source": [
    "print(panic)"
   ]
  },
  {
   "cell_type": "code",
   "execution_count": null,
   "metadata": {},
   "outputs": [],
   "source": [
    "onePanic = panic[:, 0]\n",
    "print(onePanic)"
   ]
  },
  {
   "cell_type": "code",
   "execution_count": null,
   "metadata": {},
   "outputs": [],
   "source": [
    "plt.plot(onePanic)\n",
    "plt.show()"
   ]
  },
  {
   "cell_type": "code",
   "execution_count": null,
   "metadata": {},
   "outputs": [],
   "source": []
  }
 ],
 "metadata": {
  "kernelspec": {
   "display_name": "Python 3",
   "language": "python",
   "name": "python3"
  },
  "language_info": {
   "codemirror_mode": {
    "name": "ipython",
    "version": 3
   },
   "file_extension": ".py",
   "mimetype": "text/x-python",
   "name": "python",
   "nbconvert_exporter": "python",
   "pygments_lexer": "ipython3",
   "version": "3.6.9"
  }
 },
 "nbformat": 4,
 "nbformat_minor": 4
}
