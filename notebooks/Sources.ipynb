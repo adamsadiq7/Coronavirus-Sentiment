{
 "cells": [
  {
   "cell_type": "code",
   "execution_count": 104,
   "metadata": {},
   "outputs": [],
   "source": [
    "import sys, os\n",
    "import pandas as pd\n",
    "import numpy as np\n",
    "import seaborn as sns\n",
    "import matplotlib.pyplot as plt\n",
    "import requests\n",
    "from pytrends.request import TrendReq \n",
    "pytrend = TrendReq()\n"
   ]
  },
  {
   "cell_type": "markdown",
   "metadata": {},
   "source": [
    "# Google Trends"
   ]
  },
  {
   "cell_type": "markdown",
   "metadata": {},
   "source": [
    "## Popular Queries \n",
    "\n",
    "The top 50 queries related to the words coronavirus and covid-19"
   ]
  },
  {
   "cell_type": "code",
   "execution_count": 105,
   "metadata": {},
   "outputs": [
    {
     "name": "stdout",
     "output_type": "stream",
     "text": [
      "0                      corona\n",
      "1          coronavirus update\n",
      "2        coronavirus symptoms\n",
      "3            news coronavirus\n",
      "4           coronavirus cases\n",
      "5                corona virus\n",
      "6              coronavirus uk\n",
      "7           china coronavirus\n",
      "8             coronavirus map\n",
      "9          coronavirus italia\n",
      "10             el coronavirus\n",
      "11         coronavirus france\n",
      "12       coronavirus sintomas\n",
      "13          india coronavirus\n",
      "14             coronavirus us\n",
      "15    symptoms of coronavirus\n",
      "16          coronavirus italy\n",
      "17            coronavirus usa\n",
      "18            usa coronavirus\n",
      "19         coronavirus españa\n",
      "20           coronavirus tips\n",
      "21          coronavirus death\n",
      "22           coronavirus live\n",
      "23        what is coronavirus\n",
      "24         coronavirus latest\n",
      "25       covid-19 coronavirus\n",
      "26                      covid\n",
      "27             covid-19 cases\n",
      "28                   covid 19\n",
      "29             covid-19 virus\n",
      "30               covid-19 map\n",
      "31          covid-19 symptoms\n",
      "32              covid-19 news\n",
      "33           covid-19 updates\n",
      "34            update covid-19\n",
      "35               who covid-19\n",
      "36              covid-19 live\n",
      "37                covid-19 us\n",
      "38               covid-19 who\n",
      "39                        who\n",
      "40            covid-19 canada\n",
      "41           what is covid-19\n",
      "42               covid-19 cdc\n",
      "43                        cdc\n",
      "44              covid-19 test\n",
      "45             covid-19 china\n",
      "46             italy covid-19\n",
      "47               covid-19 usa\n",
      "48               usa covid-19\n",
      "49                uk covid-19\n",
      "Name: query, dtype: object\n"
     ]
    }
   ],
   "source": [
    "# words to search for\n",
    "keywords = ['coronavirus','covid-19']\n",
    "\n",
    "# Obtaining the payload\n",
    "pytrend.build_payload(keywords, timeframe='2020-01-01 2020-03-20')\n",
    "\n",
    "# Obtaining related queries\n",
    "related = pytrend.related_queries()\n",
    "searches = related[keywords[0]]['top']['query'].append(related[keywords[1]]['top']['query'])\n",
    "searches = searches.reset_index().drop(columns=[\"index\"])['query']\n",
    "print(searches)\n",
    "searches = searches.to_list()\n",
    "searches.extend(keywords)"
   ]
  },
  {
   "cell_type": "markdown",
   "metadata": {},
   "source": [
    "## Interest by Region\n",
    "Retrieving interest by region data saved to a csv file in the data directory"
   ]
  },
  {
   "cell_type": "code",
   "execution_count": 107,
   "metadata": {},
   "outputs": [
    {
     "name": "stdout",
     "output_type": "stream",
     "text": [
      "                Coronavirus  covid-19\n",
      "geoName                              \n",
      "Afghanistan              97         3\n",
      "Albania                  99         1\n",
      "Algeria                  98         2\n",
      "American Samoa           99         1\n",
      "Andorra                 100         0\n",
      "...                     ...       ...\n",
      "Western Sahara           96         4\n",
      "Yemen                    92         8\n",
      "Zambia                   98         2\n",
      "Zimbabwe                 98         2\n",
      "Åland Islands            96         4\n",
      "\n",
      "[250 rows x 2 columns]\n"
     ]
    }
   ],
   "source": [
    "# only allowed 5 words max in a list\n",
    "pytrend.build_payload(kw_list, timeframe='2020-01-01 2020-03-20')\n",
    "\n",
    "# Interest by Region\n",
    "# results are relative search volumes\n",
    "# standardizing it from 0 to 100, where 100 represents the highest share of the term over a time series\n",
    "# standardized on each request - data isnt really that useful for our requirements\n",
    "df = pytrend.interest_by_region(inc_low_vol=True)\n",
    "print(df)\n",
    "\n"
   ]
  },
  {
   "cell_type": "markdown",
   "metadata": {},
   "source": [
    "## Historical Interest\n"
   ]
  },
  {
   "cell_type": "code",
   "execution_count": null,
   "metadata": {},
   "outputs": [],
   "source": [
    "\n",
    "df = pytrend.get_historical_interest(kw_list, year_start=2020, month_start=1, day_start=1, hour_start=0, year_end=2020, month_end=3, day_end=16, hour_end=0, cat=0, geo='', gprop='', sleep=0)\n",
    "print(df.head(10))\n",
    "df.reset_index().plot(x='date', y=kw_list, figsize=(200, 50), kind ='line')"
   ]
  },
  {
   "cell_type": "code",
   "execution_count": null,
   "metadata": {},
   "outputs": [
    {
     "name": "stdout",
     "output_type": "stream",
     "text": [
      "The request failed: Google returned a response with code 500.\n"
     ]
    },
    {
     "data": {
      "text/plain": [
       "<matplotlib.axes._subplots.AxesSubplot at 0x7eff46833a50>"
      ]
     },
     "execution_count": 6,
     "metadata": {},
     "output_type": "execute_result"
    }
   ],
   "source": [
    "\n",
    "df = pytrend.get_historical_interest(kw_list, year_start=2020, month_start=1, day_start=1, hour_start=0, year_end=2020, month_end=3, day_end=16, hour_end=0, cat=0, geo='', gprop='', sleep=0)\n",
    "df['Date'] = df.reset_index()['date'].dt.date\n",
    "df['Time'] = df.reset_index()['date'].dt.time\n",
    "df.set_index('Date',drop=True)\n",
    "\n"
   ]
  },
  {
   "cell_type": "code",
   "execution_count": null,
   "metadata": {},
   "outputs": [],
   "source": []
  }
 ],
 "metadata": {
  "kernelspec": {
   "display_name": "Python 3",
   "language": "python",
   "name": "python3"
  },
  "language_info": {
   "codemirror_mode": {
    "name": "ipython",
    "version": 3
   },
   "file_extension": ".py",
   "mimetype": "text/x-python",
   "name": "python",
   "nbconvert_exporter": "python",
   "pygments_lexer": "ipython3",
   "version": "3.7.6"
  }
 },
 "nbformat": 4,
 "nbformat_minor": 4
}
